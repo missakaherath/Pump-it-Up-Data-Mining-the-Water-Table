{
  "nbformat": 4,
  "nbformat_minor": 0,
  "metadata": {
    "colab": {
      "name": "ML Project - Pump It Up",
      "provenance": [],
      "collapsed_sections": []
    },
    "kernelspec": {
      "name": "python3",
      "display_name": "Python 3"
    },
    "language_info": {
      "name": "python"
    }
  },
  "cells": [
    {
      "cell_type": "code",
      "metadata": {
        "id": "dgPT14iVuDiz"
      },
      "source": [
        "import pandas as pd\n",
        "import numpy as np\n",
        "import matplotlib.pyplot as plt\n",
        "import seaborn as sns\n",
        "\n",
        "%matplotlib inline\n",
        "\n",
        "df = pd.read_csv(\"Training_set_values.csv\")\n",
        "labels = pd.read_csv(\"Training_set_labels.csv\")\n",
        "\n",
        "df = pd.merge(df, labels, on='id')\n",
        "del labels"
      ],
      "execution_count": 963,
      "outputs": []
    },
    {
      "cell_type": "code",
      "metadata": {
        "colab": {
          "base_uri": "https://localhost:8080/"
        },
        "id": "QcSCK6O8xI7p",
        "outputId": "587165f4-ceeb-434f-8e99-184936ca9e48"
      },
      "source": [
        "df.info()"
      ],
      "execution_count": 964,
      "outputs": [
        {
          "output_type": "stream",
          "name": "stdout",
          "text": [
            "<class 'pandas.core.frame.DataFrame'>\n",
            "Int64Index: 59400 entries, 0 to 59399\n",
            "Data columns (total 41 columns):\n",
            " #   Column                 Non-Null Count  Dtype  \n",
            "---  ------                 --------------  -----  \n",
            " 0   id                     59400 non-null  int64  \n",
            " 1   amount_tsh             59400 non-null  float64\n",
            " 2   date_recorded          59400 non-null  object \n",
            " 3   funder                 55765 non-null  object \n",
            " 4   gps_height             59400 non-null  int64  \n",
            " 5   installer              55745 non-null  object \n",
            " 6   longitude              59400 non-null  float64\n",
            " 7   latitude               59400 non-null  float64\n",
            " 8   wpt_name               59400 non-null  object \n",
            " 9   num_private            59400 non-null  int64  \n",
            " 10  basin                  59400 non-null  object \n",
            " 11  subvillage             59029 non-null  object \n",
            " 12  region                 59400 non-null  object \n",
            " 13  region_code            59400 non-null  int64  \n",
            " 14  district_code          59400 non-null  int64  \n",
            " 15  lga                    59400 non-null  object \n",
            " 16  ward                   59400 non-null  object \n",
            " 17  population             59400 non-null  int64  \n",
            " 18  public_meeting         56066 non-null  object \n",
            " 19  recorded_by            59400 non-null  object \n",
            " 20  scheme_management      55523 non-null  object \n",
            " 21  scheme_name            31234 non-null  object \n",
            " 22  permit                 56344 non-null  object \n",
            " 23  construction_year      59400 non-null  int64  \n",
            " 24  extraction_type        59400 non-null  object \n",
            " 25  extraction_type_group  59400 non-null  object \n",
            " 26  extraction_type_class  59400 non-null  object \n",
            " 27  management             59400 non-null  object \n",
            " 28  management_group       59400 non-null  object \n",
            " 29  payment                59400 non-null  object \n",
            " 30  payment_type           59400 non-null  object \n",
            " 31  water_quality          59400 non-null  object \n",
            " 32  quality_group          59400 non-null  object \n",
            " 33  quantity               59400 non-null  object \n",
            " 34  quantity_group         59400 non-null  object \n",
            " 35  source                 59400 non-null  object \n",
            " 36  source_type            59400 non-null  object \n",
            " 37  source_class           59400 non-null  object \n",
            " 38  waterpoint_type        59400 non-null  object \n",
            " 39  waterpoint_type_group  59400 non-null  object \n",
            " 40  status_group           59400 non-null  object \n",
            "dtypes: float64(3), int64(7), object(31)\n",
            "memory usage: 19.0+ MB\n"
          ]
        }
      ]
    },
    {
      "cell_type": "code",
      "metadata": {
        "colab": {
          "base_uri": "https://localhost:8080/",
          "height": 405
        },
        "id": "52MFklvaAf3I",
        "outputId": "3fd52ccb-1f92-402a-adfa-9690ca74f8f1"
      },
      "source": [
        "df.head()"
      ],
      "execution_count": 965,
      "outputs": [
        {
          "output_type": "execute_result",
          "data": {
            "text/html": [
              "<div>\n",
              "<style scoped>\n",
              "    .dataframe tbody tr th:only-of-type {\n",
              "        vertical-align: middle;\n",
              "    }\n",
              "\n",
              "    .dataframe tbody tr th {\n",
              "        vertical-align: top;\n",
              "    }\n",
              "\n",
              "    .dataframe thead th {\n",
              "        text-align: right;\n",
              "    }\n",
              "</style>\n",
              "<table border=\"1\" class=\"dataframe\">\n",
              "  <thead>\n",
              "    <tr style=\"text-align: right;\">\n",
              "      <th></th>\n",
              "      <th>id</th>\n",
              "      <th>amount_tsh</th>\n",
              "      <th>date_recorded</th>\n",
              "      <th>funder</th>\n",
              "      <th>gps_height</th>\n",
              "      <th>installer</th>\n",
              "      <th>longitude</th>\n",
              "      <th>latitude</th>\n",
              "      <th>wpt_name</th>\n",
              "      <th>num_private</th>\n",
              "      <th>basin</th>\n",
              "      <th>subvillage</th>\n",
              "      <th>region</th>\n",
              "      <th>region_code</th>\n",
              "      <th>district_code</th>\n",
              "      <th>lga</th>\n",
              "      <th>ward</th>\n",
              "      <th>population</th>\n",
              "      <th>public_meeting</th>\n",
              "      <th>recorded_by</th>\n",
              "      <th>scheme_management</th>\n",
              "      <th>scheme_name</th>\n",
              "      <th>permit</th>\n",
              "      <th>construction_year</th>\n",
              "      <th>extraction_type</th>\n",
              "      <th>extraction_type_group</th>\n",
              "      <th>extraction_type_class</th>\n",
              "      <th>management</th>\n",
              "      <th>management_group</th>\n",
              "      <th>payment</th>\n",
              "      <th>payment_type</th>\n",
              "      <th>water_quality</th>\n",
              "      <th>quality_group</th>\n",
              "      <th>quantity</th>\n",
              "      <th>quantity_group</th>\n",
              "      <th>source</th>\n",
              "      <th>source_type</th>\n",
              "      <th>source_class</th>\n",
              "      <th>waterpoint_type</th>\n",
              "      <th>waterpoint_type_group</th>\n",
              "      <th>status_group</th>\n",
              "    </tr>\n",
              "  </thead>\n",
              "  <tbody>\n",
              "    <tr>\n",
              "      <th>0</th>\n",
              "      <td>69572</td>\n",
              "      <td>6000.0</td>\n",
              "      <td>2011-03-14</td>\n",
              "      <td>Roman</td>\n",
              "      <td>1390</td>\n",
              "      <td>Roman</td>\n",
              "      <td>34.938093</td>\n",
              "      <td>-9.856322</td>\n",
              "      <td>none</td>\n",
              "      <td>0</td>\n",
              "      <td>Lake Nyasa</td>\n",
              "      <td>Mnyusi B</td>\n",
              "      <td>Iringa</td>\n",
              "      <td>11</td>\n",
              "      <td>5</td>\n",
              "      <td>Ludewa</td>\n",
              "      <td>Mundindi</td>\n",
              "      <td>109</td>\n",
              "      <td>True</td>\n",
              "      <td>GeoData Consultants Ltd</td>\n",
              "      <td>VWC</td>\n",
              "      <td>Roman</td>\n",
              "      <td>False</td>\n",
              "      <td>1999</td>\n",
              "      <td>gravity</td>\n",
              "      <td>gravity</td>\n",
              "      <td>gravity</td>\n",
              "      <td>vwc</td>\n",
              "      <td>user-group</td>\n",
              "      <td>pay annually</td>\n",
              "      <td>annually</td>\n",
              "      <td>soft</td>\n",
              "      <td>good</td>\n",
              "      <td>enough</td>\n",
              "      <td>enough</td>\n",
              "      <td>spring</td>\n",
              "      <td>spring</td>\n",
              "      <td>groundwater</td>\n",
              "      <td>communal standpipe</td>\n",
              "      <td>communal standpipe</td>\n",
              "      <td>functional</td>\n",
              "    </tr>\n",
              "    <tr>\n",
              "      <th>1</th>\n",
              "      <td>8776</td>\n",
              "      <td>0.0</td>\n",
              "      <td>2013-03-06</td>\n",
              "      <td>Grumeti</td>\n",
              "      <td>1399</td>\n",
              "      <td>GRUMETI</td>\n",
              "      <td>34.698766</td>\n",
              "      <td>-2.147466</td>\n",
              "      <td>Zahanati</td>\n",
              "      <td>0</td>\n",
              "      <td>Lake Victoria</td>\n",
              "      <td>Nyamara</td>\n",
              "      <td>Mara</td>\n",
              "      <td>20</td>\n",
              "      <td>2</td>\n",
              "      <td>Serengeti</td>\n",
              "      <td>Natta</td>\n",
              "      <td>280</td>\n",
              "      <td>NaN</td>\n",
              "      <td>GeoData Consultants Ltd</td>\n",
              "      <td>Other</td>\n",
              "      <td>NaN</td>\n",
              "      <td>True</td>\n",
              "      <td>2010</td>\n",
              "      <td>gravity</td>\n",
              "      <td>gravity</td>\n",
              "      <td>gravity</td>\n",
              "      <td>wug</td>\n",
              "      <td>user-group</td>\n",
              "      <td>never pay</td>\n",
              "      <td>never pay</td>\n",
              "      <td>soft</td>\n",
              "      <td>good</td>\n",
              "      <td>insufficient</td>\n",
              "      <td>insufficient</td>\n",
              "      <td>rainwater harvesting</td>\n",
              "      <td>rainwater harvesting</td>\n",
              "      <td>surface</td>\n",
              "      <td>communal standpipe</td>\n",
              "      <td>communal standpipe</td>\n",
              "      <td>functional</td>\n",
              "    </tr>\n",
              "    <tr>\n",
              "      <th>2</th>\n",
              "      <td>34310</td>\n",
              "      <td>25.0</td>\n",
              "      <td>2013-02-25</td>\n",
              "      <td>Lottery Club</td>\n",
              "      <td>686</td>\n",
              "      <td>World vision</td>\n",
              "      <td>37.460664</td>\n",
              "      <td>-3.821329</td>\n",
              "      <td>Kwa Mahundi</td>\n",
              "      <td>0</td>\n",
              "      <td>Pangani</td>\n",
              "      <td>Majengo</td>\n",
              "      <td>Manyara</td>\n",
              "      <td>21</td>\n",
              "      <td>4</td>\n",
              "      <td>Simanjiro</td>\n",
              "      <td>Ngorika</td>\n",
              "      <td>250</td>\n",
              "      <td>True</td>\n",
              "      <td>GeoData Consultants Ltd</td>\n",
              "      <td>VWC</td>\n",
              "      <td>Nyumba ya mungu pipe scheme</td>\n",
              "      <td>True</td>\n",
              "      <td>2009</td>\n",
              "      <td>gravity</td>\n",
              "      <td>gravity</td>\n",
              "      <td>gravity</td>\n",
              "      <td>vwc</td>\n",
              "      <td>user-group</td>\n",
              "      <td>pay per bucket</td>\n",
              "      <td>per bucket</td>\n",
              "      <td>soft</td>\n",
              "      <td>good</td>\n",
              "      <td>enough</td>\n",
              "      <td>enough</td>\n",
              "      <td>dam</td>\n",
              "      <td>dam</td>\n",
              "      <td>surface</td>\n",
              "      <td>communal standpipe multiple</td>\n",
              "      <td>communal standpipe</td>\n",
              "      <td>functional</td>\n",
              "    </tr>\n",
              "    <tr>\n",
              "      <th>3</th>\n",
              "      <td>67743</td>\n",
              "      <td>0.0</td>\n",
              "      <td>2013-01-28</td>\n",
              "      <td>Unicef</td>\n",
              "      <td>263</td>\n",
              "      <td>UNICEF</td>\n",
              "      <td>38.486161</td>\n",
              "      <td>-11.155298</td>\n",
              "      <td>Zahanati Ya Nanyumbu</td>\n",
              "      <td>0</td>\n",
              "      <td>Ruvuma / Southern Coast</td>\n",
              "      <td>Mahakamani</td>\n",
              "      <td>Mtwara</td>\n",
              "      <td>90</td>\n",
              "      <td>63</td>\n",
              "      <td>Nanyumbu</td>\n",
              "      <td>Nanyumbu</td>\n",
              "      <td>58</td>\n",
              "      <td>True</td>\n",
              "      <td>GeoData Consultants Ltd</td>\n",
              "      <td>VWC</td>\n",
              "      <td>NaN</td>\n",
              "      <td>True</td>\n",
              "      <td>1986</td>\n",
              "      <td>submersible</td>\n",
              "      <td>submersible</td>\n",
              "      <td>submersible</td>\n",
              "      <td>vwc</td>\n",
              "      <td>user-group</td>\n",
              "      <td>never pay</td>\n",
              "      <td>never pay</td>\n",
              "      <td>soft</td>\n",
              "      <td>good</td>\n",
              "      <td>dry</td>\n",
              "      <td>dry</td>\n",
              "      <td>machine dbh</td>\n",
              "      <td>borehole</td>\n",
              "      <td>groundwater</td>\n",
              "      <td>communal standpipe multiple</td>\n",
              "      <td>communal standpipe</td>\n",
              "      <td>non functional</td>\n",
              "    </tr>\n",
              "    <tr>\n",
              "      <th>4</th>\n",
              "      <td>19728</td>\n",
              "      <td>0.0</td>\n",
              "      <td>2011-07-13</td>\n",
              "      <td>Action In A</td>\n",
              "      <td>0</td>\n",
              "      <td>Artisan</td>\n",
              "      <td>31.130847</td>\n",
              "      <td>-1.825359</td>\n",
              "      <td>Shuleni</td>\n",
              "      <td>0</td>\n",
              "      <td>Lake Victoria</td>\n",
              "      <td>Kyanyamisa</td>\n",
              "      <td>Kagera</td>\n",
              "      <td>18</td>\n",
              "      <td>1</td>\n",
              "      <td>Karagwe</td>\n",
              "      <td>Nyakasimbi</td>\n",
              "      <td>0</td>\n",
              "      <td>True</td>\n",
              "      <td>GeoData Consultants Ltd</td>\n",
              "      <td>NaN</td>\n",
              "      <td>NaN</td>\n",
              "      <td>True</td>\n",
              "      <td>0</td>\n",
              "      <td>gravity</td>\n",
              "      <td>gravity</td>\n",
              "      <td>gravity</td>\n",
              "      <td>other</td>\n",
              "      <td>other</td>\n",
              "      <td>never pay</td>\n",
              "      <td>never pay</td>\n",
              "      <td>soft</td>\n",
              "      <td>good</td>\n",
              "      <td>seasonal</td>\n",
              "      <td>seasonal</td>\n",
              "      <td>rainwater harvesting</td>\n",
              "      <td>rainwater harvesting</td>\n",
              "      <td>surface</td>\n",
              "      <td>communal standpipe</td>\n",
              "      <td>communal standpipe</td>\n",
              "      <td>functional</td>\n",
              "    </tr>\n",
              "  </tbody>\n",
              "</table>\n",
              "</div>"
            ],
            "text/plain": [
              "      id  amount_tsh  ... waterpoint_type_group    status_group\n",
              "0  69572      6000.0  ...    communal standpipe      functional\n",
              "1   8776         0.0  ...    communal standpipe      functional\n",
              "2  34310        25.0  ...    communal standpipe      functional\n",
              "3  67743         0.0  ...    communal standpipe  non functional\n",
              "4  19728         0.0  ...    communal standpipe      functional\n",
              "\n",
              "[5 rows x 41 columns]"
            ]
          },
          "metadata": {},
          "execution_count": 965
        }
      ]
    },
    {
      "cell_type": "markdown",
      "metadata": {
        "id": "eodrVZmxUnEo"
      },
      "source": [
        ""
      ]
    },
    {
      "cell_type": "code",
      "metadata": {
        "colab": {
          "base_uri": "https://localhost:8080/"
        },
        "id": "B2OFFrF9SkEs",
        "outputId": "99b0ccde-90de-49f7-dbf2-322e14ecb0f0"
      },
      "source": [
        "missing_values_count = df.isnull().sum()\n",
        "print(missing_values_count)"
      ],
      "execution_count": 966,
      "outputs": [
        {
          "output_type": "stream",
          "name": "stdout",
          "text": [
            "id                           0\n",
            "amount_tsh                   0\n",
            "date_recorded                0\n",
            "funder                    3635\n",
            "gps_height                   0\n",
            "installer                 3655\n",
            "longitude                    0\n",
            "latitude                     0\n",
            "wpt_name                     0\n",
            "num_private                  0\n",
            "basin                        0\n",
            "subvillage                 371\n",
            "region                       0\n",
            "region_code                  0\n",
            "district_code                0\n",
            "lga                          0\n",
            "ward                         0\n",
            "population                   0\n",
            "public_meeting            3334\n",
            "recorded_by                  0\n",
            "scheme_management         3877\n",
            "scheme_name              28166\n",
            "permit                    3056\n",
            "construction_year            0\n",
            "extraction_type              0\n",
            "extraction_type_group        0\n",
            "extraction_type_class        0\n",
            "management                   0\n",
            "management_group             0\n",
            "payment                      0\n",
            "payment_type                 0\n",
            "water_quality                0\n",
            "quality_group                0\n",
            "quantity                     0\n",
            "quantity_group               0\n",
            "source                       0\n",
            "source_type                  0\n",
            "source_class                 0\n",
            "waterpoint_type              0\n",
            "waterpoint_type_group        0\n",
            "status_group                 0\n",
            "dtype: int64\n"
          ]
        }
      ]
    },
    {
      "cell_type": "code",
      "metadata": {
        "colab": {
          "base_uri": "https://localhost:8080/"
        },
        "id": "Eb6uQV-VS9vX",
        "outputId": "319e9fcc-a71c-4759-b7f6-f77a2cc44e76"
      },
      "source": [
        "#percentage of missing data\n",
        "total_cells = np.product(df.shape)\n",
        "total_missing = missing_values_count.sum()\n",
        "\n",
        "percent_missing = (total_missing/total_cells) * 100\n",
        "print(percent_missing)"
      ],
      "execution_count": 967,
      "outputs": [
        {
          "output_type": "stream",
          "name": "stdout",
          "text": [
            "1.8926665024226\n"
          ]
        }
      ]
    },
    {
      "cell_type": "code",
      "metadata": {
        "colab": {
          "base_uri": "https://localhost:8080/"
        },
        "id": "p3KgXyBrAqP9",
        "outputId": "a571026b-49a9-4aa5-cf2b-e64a7662fbc3"
      },
      "source": [
        "df.funder.value_counts()"
      ],
      "execution_count": 968,
      "outputs": [
        {
          "output_type": "execute_result",
          "data": {
            "text/plain": [
              "Government Of Tanzania          9084\n",
              "Danida                          3114\n",
              "Hesawa                          2202\n",
              "Rwssp                           1374\n",
              "World Bank                      1349\n",
              "                                ... \n",
              "Meko Balo                          1\n",
              "People From Egypt                  1\n",
              "Egypt Technical Co Operation       1\n",
              "Nazaleti                           1\n",
              "Soko La Magomeni                   1\n",
              "Name: funder, Length: 1897, dtype: int64"
            ]
          },
          "metadata": {},
          "execution_count": 968
        }
      ]
    },
    {
      "cell_type": "code",
      "metadata": {
        "colab": {
          "base_uri": "https://localhost:8080/"
        },
        "id": "3-51-OfrxnZv",
        "outputId": "6ce5dc35-d1a4-4008-962a-8e2d4ce21191"
      },
      "source": [
        "df.funder.head()"
      ],
      "execution_count": 969,
      "outputs": [
        {
          "output_type": "execute_result",
          "data": {
            "text/plain": [
              "0           Roman\n",
              "1         Grumeti\n",
              "2    Lottery Club\n",
              "3          Unicef\n",
              "4     Action In A\n",
              "Name: funder, dtype: object"
            ]
          },
          "metadata": {},
          "execution_count": 969
        }
      ]
    },
    {
      "cell_type": "code",
      "metadata": {
        "id": "zuKqmPLYwo-I"
      },
      "source": [
        "#to avoid inconsistent data\n",
        "df.funder = df.funder.str.lower()"
      ],
      "execution_count": 970,
      "outputs": []
    },
    {
      "cell_type": "code",
      "metadata": {
        "id": "3qoW_WZnArfP"
      },
      "source": [
        "# Keep top 5 values and set the rest to 'other'\n",
        "\n",
        "def funder_keep_top(row):  \n",
        "\n",
        "    if row['funder']=='government of tanzania':\n",
        "        return 'gov'\n",
        "    elif row['funder']=='danida':\n",
        "        return 'danida'\n",
        "    elif row['funder']=='hesawa':\n",
        "        return 'hesawa'\n",
        "    elif row['funder']=='rwssp':\n",
        "        return 'rwssp'\n",
        "    elif row['funder']=='world bank':\n",
        "        return 'world_bank'    \n",
        "    else:\n",
        "        return 'other'\n",
        "    \n",
        "df['funder'] = df.apply(lambda row: funder_keep_top(row), axis=1)"
      ],
      "execution_count": 971,
      "outputs": []
    },
    {
      "cell_type": "code",
      "metadata": {
        "colab": {
          "base_uri": "https://localhost:8080/"
        },
        "id": "zuzISbl3EgH3",
        "outputId": "e9523c5c-ba9e-4a02-eb0b-cac31df8c7d4"
      },
      "source": [
        "# inspect 'installer'.\n",
        "\n",
        "df.installer.value_counts()"
      ],
      "execution_count": 972,
      "outputs": [
        {
          "output_type": "execute_result",
          "data": {
            "text/plain": [
              "DWE              17402\n",
              "Government        1825\n",
              "RWE               1206\n",
              "Commu             1060\n",
              "DANIDA            1050\n",
              "                 ...  \n",
              "WASHIMA              1\n",
              "Mr Kas               1\n",
              "CGI                  1\n",
              "Wedeco               1\n",
              "Private owned        1\n",
              "Name: installer, Length: 2145, dtype: int64"
            ]
          },
          "metadata": {},
          "execution_count": 972
        }
      ]
    },
    {
      "cell_type": "code",
      "metadata": {
        "id": "E_I9u36GydVm"
      },
      "source": [
        "#to avoid inconsistent data\n",
        "df.installer = df.installer.str.lower()"
      ],
      "execution_count": 973,
      "outputs": []
    },
    {
      "cell_type": "code",
      "metadata": {
        "colab": {
          "base_uri": "https://localhost:8080/"
        },
        "id": "4SwQlR-byo4l",
        "outputId": "636b85ee-1058-4edf-a40a-4afaf62dea82"
      },
      "source": [
        "df.installer.head(50)"
      ],
      "execution_count": 974,
      "outputs": [
        {
          "output_type": "execute_result",
          "data": {
            "text/plain": [
              "0                    roman\n",
              "1                  grumeti\n",
              "2             world vision\n",
              "3                   unicef\n",
              "4                  artisan\n",
              "5                      dwe\n",
              "6                     dwsp\n",
              "7                      dwe\n",
              "8                water aid\n",
              "9                  artisan\n",
              "10                 private\n",
              "11                  danida\n",
              "12            world vision\n",
              "13    lawatefuka water sup\n",
              "14                  wedeco\n",
              "15                     dwe\n",
              "16                     dwe\n",
              "17                     dwe\n",
              "18                     dwe\n",
              "19                   danid\n",
              "20                     twe\n",
              "21                     dwe\n",
              "22                     dwe\n",
              "23                     isf\n",
              "24                     dwe\n",
              "25                     dwe\n",
              "26             kilolo star\n",
              "27                     dwe\n",
              "28        district council\n",
              "29    lawatefuka water sup\n",
              "30                   water\n",
              "31                      wu\n",
              "32                     dwe\n",
              "33                     dwe\n",
              "34                     NaN\n",
              "35               not known\n",
              "36      central government\n",
              "37                     dwe\n",
              "38                    cefa\n",
              "39                     dwe\n",
              "40                     dwe\n",
              "41                   commu\n",
              "42                   accra\n",
              "43                     NaN\n",
              "44                     dwe\n",
              "45            world vision\n",
              "46                     lga\n",
              "47                     NaN\n",
              "48                    cefa\n",
              "49                     dwe\n",
              "Name: installer, dtype: object"
            ]
          },
          "metadata": {},
          "execution_count": 974
        }
      ]
    },
    {
      "cell_type": "code",
      "metadata": {
        "id": "9kldIZ0BEwn9"
      },
      "source": [
        "# Keep top 5 values and set the rest to 'other'\n",
        "\n",
        "def installer_keep_top(row):\n",
        "\n",
        "    if row['installer']=='DWE'.lower():\n",
        "        return 'dwe'\n",
        "    elif row['installer']=='Government'.lower():\n",
        "        return 'gov'\n",
        "    elif row['installer']=='RWE'.lower():\n",
        "        return 'rwe'\n",
        "    elif row['installer']=='Commu'.lower():\n",
        "        return 'commu'\n",
        "    elif row['installer']=='DANIDA'.lower():\n",
        "        return 'danida'\n",
        "    else:\n",
        "        return 'other'  \n",
        "\n",
        "df['installer'] = df.apply(lambda row: installer_keep_top(row), axis=1)"
      ],
      "execution_count": 975,
      "outputs": []
    },
    {
      "cell_type": "code",
      "metadata": {
        "colab": {
          "base_uri": "https://localhost:8080/"
        },
        "id": "yfExd6g6FzB8",
        "outputId": "ea3d0e87-1073-4452-e1cd-af23a91877ae"
      },
      "source": [
        "# 'subvillage'.\n",
        "\n",
        "print(df.subvillage.value_counts())"
      ],
      "execution_count": 976,
      "outputs": [
        {
          "output_type": "stream",
          "name": "stdout",
          "text": [
            "Madukani     508\n",
            "Shuleni      506\n",
            "Majengo      502\n",
            "Kati         373\n",
            "Mtakuja      262\n",
            "            ... \n",
            "Kukegere       1\n",
            "Mwamaduhi      1\n",
            "Marti          1\n",
            "Kiumbo         1\n",
            "Kumyange       1\n",
            "Name: subvillage, Length: 19287, dtype: int64\n"
          ]
        }
      ]
    },
    {
      "cell_type": "code",
      "metadata": {
        "colab": {
          "base_uri": "https://localhost:8080/"
        },
        "id": "4f5PSVgYF1aT",
        "outputId": "5f72be75-9859-4265-db8c-78812033fb41"
      },
      "source": [
        "print('Number of villages: ', len(df.subvillage.value_counts()))\n"
      ],
      "execution_count": 977,
      "outputs": [
        {
          "output_type": "stream",
          "name": "stdout",
          "text": [
            "Number of villages:  19287\n"
          ]
        }
      ]
    },
    {
      "cell_type": "code",
      "metadata": {
        "id": "9xlkaBGRGCf8"
      },
      "source": [
        "# since there are a lot of unique values and top valued villages doesn't cover a majority of them, let's drop this\n",
        "\n",
        "df = df.drop('subvillage', axis=1)"
      ],
      "execution_count": 978,
      "outputs": []
    },
    {
      "cell_type": "code",
      "metadata": {
        "colab": {
          "base_uri": "https://localhost:8080/"
        },
        "id": "9BEjsJE9s0lx",
        "outputId": "40c673a2-d954-4c5b-c8d5-28eca1d67a10"
      },
      "source": [
        "# 'public_meeting'.\n",
        "\n",
        "df.public_meeting.value_counts()"
      ],
      "execution_count": 979,
      "outputs": [
        {
          "output_type": "execute_result",
          "data": {
            "text/plain": [
              "True     51011\n",
              "False     5055\n",
              "Name: public_meeting, dtype: int64"
            ]
          },
          "metadata": {},
          "execution_count": 979
        }
      ]
    },
    {
      "cell_type": "code",
      "metadata": {
        "id": "aPzpf_moGOcV"
      },
      "source": [
        "# fill the unknown data with a constant\n",
        "\n",
        "df.public_meeting = df.public_meeting.fillna('Unknown')"
      ],
      "execution_count": 980,
      "outputs": []
    },
    {
      "cell_type": "code",
      "metadata": {
        "colab": {
          "base_uri": "https://localhost:8080/"
        },
        "id": "JiHTytH4s9qN",
        "outputId": "62f96b2f-2d35-438a-bb91-5f168936e7f6"
      },
      "source": [
        "# 'scheme_management' \n",
        "\n",
        "df.scheme_management.value_counts()"
      ],
      "execution_count": 981,
      "outputs": [
        {
          "output_type": "execute_result",
          "data": {
            "text/plain": [
              "VWC                 36793\n",
              "WUG                  5206\n",
              "Water authority      3153\n",
              "WUA                  2883\n",
              "Water Board          2748\n",
              "Parastatal           1680\n",
              "Private operator     1063\n",
              "Company              1061\n",
              "Other                 766\n",
              "SWC                    97\n",
              "Trust                  72\n",
              "None                    1\n",
              "Name: scheme_management, dtype: int64"
            ]
          },
          "metadata": {},
          "execution_count": 981
        }
      ]
    },
    {
      "cell_type": "code",
      "metadata": {
        "id": "qmhciiTHzAqt"
      },
      "source": [
        "#to avoid inconsistent data\n",
        "df.scheme_management = df.scheme_management.str.lower()"
      ],
      "execution_count": 982,
      "outputs": []
    },
    {
      "cell_type": "code",
      "metadata": {
        "id": "Nmg2OxNOGOge"
      },
      "source": [
        "# keep only top 5\n",
        "\n",
        "def scheme_keep_top(row):\n",
        "\n",
        "    if row['scheme_management']=='VWC'.lower():\n",
        "        return 'vwc'\n",
        "    elif row['scheme_management']=='WUG'.lower():\n",
        "        return 'wug'\n",
        "    elif row['scheme_management']=='Water authority'.lower():\n",
        "        return 'wtr_auth'\n",
        "    elif row['scheme_management']=='WUA'.lower():\n",
        "        return 'wua'\n",
        "    elif row['scheme_management']=='Water Board'.lower():\n",
        "        return 'wtr_brd'\n",
        "    else:\n",
        "        return 'other'\n",
        "\n",
        "df['scheme_management'] = df.apply(lambda row: scheme_keep_top(row), axis=1)"
      ],
      "execution_count": 983,
      "outputs": []
    },
    {
      "cell_type": "code",
      "metadata": {
        "colab": {
          "base_uri": "https://localhost:8080/"
        },
        "id": "g-Rpn3s8GOjO",
        "outputId": "f78db5b8-1df9-4140-8ce0-05d51dfe6a4e"
      },
      "source": [
        "df.scheme_name.value_counts()"
      ],
      "execution_count": 984,
      "outputs": [
        {
          "output_type": "execute_result",
          "data": {
            "text/plain": [
              "K                            682\n",
              "None                         644\n",
              "Borehole                     546\n",
              "Chalinze wate                405\n",
              "M                            400\n",
              "                            ... \n",
              "Kashangu water supply          1\n",
              "Mradi wa maji wa sed farm      1\n",
              "Pefa water supply              1\n",
              "Fufu                           1\n",
              "Iton                           1\n",
              "Name: scheme_name, Length: 2696, dtype: int64"
            ]
          },
          "metadata": {},
          "execution_count": 984
        }
      ]
    },
    {
      "cell_type": "code",
      "metadata": {
        "colab": {
          "base_uri": "https://localhost:8080/"
        },
        "id": "qR_m2WHeGOlc",
        "outputId": "af515b09-af32-4f41-aa54-511a0b6603e1"
      },
      "source": [
        "len(df.scheme_name.unique())"
      ],
      "execution_count": 985,
      "outputs": [
        {
          "output_type": "execute_result",
          "data": {
            "text/plain": [
              "2697"
            ]
          },
          "metadata": {},
          "execution_count": 985
        }
      ]
    },
    {
      "cell_type": "code",
      "metadata": {
        "id": "nE1o0ZX8tPwh"
      },
      "source": [
        "# there are a lots of unique factors and top 5 doesn't represent a majority of them\n",
        "\n",
        "df = df.drop('scheme_name', axis=1)"
      ],
      "execution_count": 986,
      "outputs": []
    },
    {
      "cell_type": "code",
      "metadata": {
        "colab": {
          "base_uri": "https://localhost:8080/"
        },
        "id": "qu14hYIUGOns",
        "outputId": "991818ba-f513-4e86-e3b3-72018854b8e9"
      },
      "source": [
        "# The last column containing null values is 'permit'.\n",
        "\n",
        "df.permit.value_counts()"
      ],
      "execution_count": 987,
      "outputs": [
        {
          "output_type": "execute_result",
          "data": {
            "text/plain": [
              "True     38852\n",
              "False    17492\n",
              "Name: permit, dtype: int64"
            ]
          },
          "metadata": {},
          "execution_count": 987
        }
      ]
    },
    {
      "cell_type": "code",
      "metadata": {
        "id": "WnOq9f_sGwh9"
      },
      "source": [
        "# replace unknown data with a constant\n",
        "\n",
        "df.permit = df.permit.fillna('Unknown')"
      ],
      "execution_count": 988,
      "outputs": []
    },
    {
      "cell_type": "code",
      "metadata": {
        "colab": {
          "base_uri": "https://localhost:8080/"
        },
        "id": "RTqXAjQXGxog",
        "outputId": "dc2cc87f-4976-4456-9a9e-39604accb8e9"
      },
      "source": [
        "df.apply(lambda x: sum(x.isnull()))"
      ],
      "execution_count": 989,
      "outputs": [
        {
          "output_type": "execute_result",
          "data": {
            "text/plain": [
              "id                       0\n",
              "amount_tsh               0\n",
              "date_recorded            0\n",
              "funder                   0\n",
              "gps_height               0\n",
              "installer                0\n",
              "longitude                0\n",
              "latitude                 0\n",
              "wpt_name                 0\n",
              "num_private              0\n",
              "basin                    0\n",
              "region                   0\n",
              "region_code              0\n",
              "district_code            0\n",
              "lga                      0\n",
              "ward                     0\n",
              "population               0\n",
              "public_meeting           0\n",
              "recorded_by              0\n",
              "scheme_management        0\n",
              "permit                   0\n",
              "construction_year        0\n",
              "extraction_type          0\n",
              "extraction_type_group    0\n",
              "extraction_type_class    0\n",
              "management               0\n",
              "management_group         0\n",
              "payment                  0\n",
              "payment_type             0\n",
              "water_quality            0\n",
              "quality_group            0\n",
              "quantity                 0\n",
              "quantity_group           0\n",
              "source                   0\n",
              "source_type              0\n",
              "source_class             0\n",
              "waterpoint_type          0\n",
              "waterpoint_type_group    0\n",
              "status_group             0\n",
              "dtype: int64"
            ]
          },
          "metadata": {},
          "execution_count": 989
        }
      ]
    },
    {
      "cell_type": "markdown",
      "metadata": {
        "id": "qfEM29lGt_10"
      },
      "source": [
        "All the columns with null values are handled"
      ]
    },
    {
      "cell_type": "code",
      "metadata": {
        "colab": {
          "base_uri": "https://localhost:8080/"
        },
        "id": "SutelePVJKgz",
        "outputId": "7dd54e4f-aefb-47f6-9232-ebe14bbe2395"
      },
      "source": [
        "# columns with string values (object type)\n",
        "\n",
        "str_cols = df.select_dtypes(include = ['object'])\n",
        "str_cols.apply(lambda x: len(x.unique()))"
      ],
      "execution_count": 990,
      "outputs": [
        {
          "output_type": "execute_result",
          "data": {
            "text/plain": [
              "date_recorded              356\n",
              "funder                       6\n",
              "installer                    6\n",
              "wpt_name                 37400\n",
              "basin                        9\n",
              "region                      21\n",
              "lga                        125\n",
              "ward                      2092\n",
              "public_meeting               3\n",
              "recorded_by                  1\n",
              "scheme_management            6\n",
              "permit                       3\n",
              "extraction_type             18\n",
              "extraction_type_group       13\n",
              "extraction_type_class        7\n",
              "management                  12\n",
              "management_group             5\n",
              "payment                      7\n",
              "payment_type                 7\n",
              "water_quality                8\n",
              "quality_group                6\n",
              "quantity                     5\n",
              "quantity_group               5\n",
              "source                      10\n",
              "source_type                  7\n",
              "source_class                 3\n",
              "waterpoint_type              7\n",
              "waterpoint_type_group        6\n",
              "status_group                 3\n",
              "dtype: int64"
            ]
          },
          "metadata": {},
          "execution_count": 990
        }
      ]
    },
    {
      "cell_type": "code",
      "metadata": {
        "colab": {
          "base_uri": "https://localhost:8080/"
        },
        "id": "lNoCXnV5JPnV",
        "outputId": "d9f8942d-cec5-4dc9-a1e2-cbb07169f934"
      },
      "source": [
        "# 'Date recorded'\n",
        "\n",
        "df.date_recorded.describe()"
      ],
      "execution_count": 991,
      "outputs": [
        {
          "output_type": "execute_result",
          "data": {
            "text/plain": [
              "count          59400\n",
              "unique           356\n",
              "top       2011-03-15\n",
              "freq             572\n",
              "Name: date_recorded, dtype: object"
            ]
          },
          "metadata": {},
          "execution_count": 991
        }
      ]
    },
    {
      "cell_type": "code",
      "metadata": {
        "colab": {
          "base_uri": "https://localhost:8080/"
        },
        "id": "1Gx2YZyRJmH8",
        "outputId": "374252af-0be3-4f6d-a07a-927f3bfbf1ec"
      },
      "source": [
        "# Change the column to represent the number of days since the most recently recorded datetime\n",
        "\n",
        "df.date_recorded = pd.to_datetime(df.date_recorded)\n",
        "df.date_recorded.describe()"
      ],
      "execution_count": 992,
      "outputs": [
        {
          "output_type": "stream",
          "name": "stderr",
          "text": [
            "/usr/local/lib/python3.7/dist-packages/ipykernel_launcher.py:4: FutureWarning: Treating datetime data as categorical rather than numeric in `.describe` is deprecated and will be removed in a future version of pandas. Specify `datetime_is_numeric=True` to silence this warning and adopt the future behavior now.\n",
            "  after removing the cwd from sys.path.\n"
          ]
        },
        {
          "output_type": "execute_result",
          "data": {
            "text/plain": [
              "count                   59400\n",
              "unique                    356\n",
              "top       2011-03-15 00:00:00\n",
              "freq                      572\n",
              "first     2002-10-14 00:00:00\n",
              "last      2013-12-03 00:00:00\n",
              "Name: date_recorded, dtype: object"
            ]
          },
          "metadata": {},
          "execution_count": 992
        }
      ]
    },
    {
      "cell_type": "code",
      "metadata": {
        "colab": {
          "base_uri": "https://localhost:8080/"
        },
        "id": "UrC6mG8wJyzF",
        "outputId": "83ff0285-f3bd-446d-c8c6-abd9f8da6459"
      },
      "source": [
        "# obtain a 'days_since_recorded' column.\n",
        "\n",
        "df.date_recorded = pd.datetime(2013, 12, 3) - pd.to_datetime(df.date_recorded)\n",
        "df.columns = ['days_since_recorded' if x=='date_recorded' else x for x in df.columns]\n",
        "df.days_since_recorded = df.days_since_recorded.astype('timedelta64[D]').astype(int)\n",
        "df.days_since_recorded.describe()"
      ],
      "execution_count": 993,
      "outputs": [
        {
          "output_type": "stream",
          "name": "stderr",
          "text": [
            "/usr/local/lib/python3.7/dist-packages/ipykernel_launcher.py:3: FutureWarning: The pandas.datetime class is deprecated and will be removed from pandas in a future version. Import from datetime module instead.\n",
            "  This is separate from the ipykernel package so we can avoid doing imports until\n"
          ]
        },
        {
          "output_type": "execute_result",
          "data": {
            "text/plain": [
              "count    59400.000000\n",
              "mean       613.616970\n",
              "std        334.216374\n",
              "min          0.000000\n",
              "25%        297.000000\n",
              "50%        419.000000\n",
              "75%        977.000000\n",
              "max       4068.000000\n",
              "Name: days_since_recorded, dtype: float64"
            ]
          },
          "metadata": {},
          "execution_count": 993
        }
      ]
    },
    {
      "cell_type": "code",
      "metadata": {
        "colab": {
          "base_uri": "https://localhost:8080/"
        },
        "id": "gAVpOra2KK4V",
        "outputId": "d9846c26-094a-4e12-8dfb-5381b3de5e7f"
      },
      "source": [
        "# 'wpt_name' \n",
        "\n",
        "df.wpt_name.value_counts()"
      ],
      "execution_count": 994,
      "outputs": [
        {
          "output_type": "execute_result",
          "data": {
            "text/plain": [
              "none                   3563\n",
              "Shuleni                1748\n",
              "Zahanati                830\n",
              "Msikitini               535\n",
              "Kanisani                323\n",
              "                       ... \n",
              "Mtenga                    1\n",
              "Kwa Chiku Ramadhan        1\n",
              "Kwa Mkomba                1\n",
              "Kwa Mzee Adrea Baru       1\n",
              "Ahakasheshe Sta           1\n",
              "Name: wpt_name, Length: 37400, dtype: int64"
            ]
          },
          "metadata": {},
          "execution_count": 994
        }
      ]
    },
    {
      "cell_type": "code",
      "metadata": {
        "id": "5ZPECvExKK68"
      },
      "source": [
        "# large number of values and top categories doesn't have a larger factor\n",
        "df = df.drop('wpt_name', axis=1)"
      ],
      "execution_count": 995,
      "outputs": []
    },
    {
      "cell_type": "code",
      "metadata": {
        "colab": {
          "base_uri": "https://localhost:8080/"
        },
        "id": "Z70mO4ugKK9b",
        "outputId": "e7037baf-032a-4a9e-a1bc-779d2d247aa6"
      },
      "source": [
        "df.basin.value_counts()"
      ],
      "execution_count": 996,
      "outputs": [
        {
          "output_type": "execute_result",
          "data": {
            "text/plain": [
              "Lake Victoria              10248\n",
              "Pangani                     8940\n",
              "Rufiji                      7976\n",
              "Internal                    7785\n",
              "Lake Tanganyika             6432\n",
              "Wami / Ruvu                 5987\n",
              "Lake Nyasa                  5085\n",
              "Ruvuma / Southern Coast     4493\n",
              "Lake Rukwa                  2454\n",
              "Name: basin, dtype: int64"
            ]
          },
          "metadata": {},
          "execution_count": 996
        }
      ]
    },
    {
      "cell_type": "code",
      "metadata": {
        "colab": {
          "base_uri": "https://localhost:8080/"
        },
        "id": "B4sSUNmPKLJF",
        "outputId": "6c45556f-468d-4cce-aec4-dbcb1a1a591c"
      },
      "source": [
        "df.region.value_counts()"
      ],
      "execution_count": 997,
      "outputs": [
        {
          "output_type": "execute_result",
          "data": {
            "text/plain": [
              "Iringa           5294\n",
              "Shinyanga        4982\n",
              "Mbeya            4639\n",
              "Kilimanjaro      4379\n",
              "Morogoro         4006\n",
              "Arusha           3350\n",
              "Kagera           3316\n",
              "Mwanza           3102\n",
              "Kigoma           2816\n",
              "Ruvuma           2640\n",
              "Pwani            2635\n",
              "Tanga            2547\n",
              "Dodoma           2201\n",
              "Singida          2093\n",
              "Mara             1969\n",
              "Tabora           1959\n",
              "Rukwa            1808\n",
              "Mtwara           1730\n",
              "Manyara          1583\n",
              "Lindi            1546\n",
              "Dar es Salaam     805\n",
              "Name: region, dtype: int64"
            ]
          },
          "metadata": {},
          "execution_count": 997
        }
      ]
    },
    {
      "cell_type": "code",
      "metadata": {
        "id": "VX6LZx0wKpgM"
      },
      "source": [
        "# since all basin, lga, ward and region contain geographical information\n",
        "df = df.drop(['region', 'lga', 'ward'], axis=1)"
      ],
      "execution_count": 998,
      "outputs": []
    },
    {
      "cell_type": "code",
      "metadata": {
        "colab": {
          "base_uri": "https://localhost:8080/"
        },
        "id": "2HkEhWZ1Ku2w",
        "outputId": "8675b9b8-beae-4573-b5d2-421005eead3f"
      },
      "source": [
        "df.recorded_by.value_counts()"
      ],
      "execution_count": 999,
      "outputs": [
        {
          "output_type": "execute_result",
          "data": {
            "text/plain": [
              "GeoData Consultants Ltd    59400\n",
              "Name: recorded_by, dtype: int64"
            ]
          },
          "metadata": {},
          "execution_count": 999
        }
      ]
    },
    {
      "cell_type": "code",
      "metadata": {
        "id": "7kBxRi7RKu5I"
      },
      "source": [
        "# All the rows have the same value \n",
        "df = df.drop('recorded_by', axis=1)"
      ],
      "execution_count": 1000,
      "outputs": []
    },
    {
      "cell_type": "code",
      "metadata": {
        "id": "G-PojOHCKu7m"
      },
      "source": [
        "# extraction_type, extraction_type_group and extraction_type_class contains similar information\n",
        "df = df.drop(['extraction_type', 'extraction_type_group'], axis=1)"
      ],
      "execution_count": 1001,
      "outputs": []
    },
    {
      "cell_type": "code",
      "metadata": {
        "colab": {
          "base_uri": "https://localhost:8080/"
        },
        "id": "qIipzAN6Ku-u",
        "outputId": "cc9c0dcd-4365-4131-e1ca-8c34ae627682"
      },
      "source": [
        "df.management.value_counts()"
      ],
      "execution_count": 1002,
      "outputs": [
        {
          "output_type": "execute_result",
          "data": {
            "text/plain": [
              "vwc                 40507\n",
              "wug                  6515\n",
              "water board          2933\n",
              "wua                  2535\n",
              "private operator     1971\n",
              "parastatal           1768\n",
              "water authority       904\n",
              "other                 844\n",
              "company               685\n",
              "unknown               561\n",
              "other - school         99\n",
              "trust                  78\n",
              "Name: management, dtype: int64"
            ]
          },
          "metadata": {},
          "execution_count": 1002
        }
      ]
    },
    {
      "cell_type": "code",
      "metadata": {
        "id": "C89NIZfrKvA8"
      },
      "source": [
        "# This is almost identical to 'scheme_management'\n",
        "\n",
        "df = df.drop('management', axis=1)"
      ],
      "execution_count": 1003,
      "outputs": []
    },
    {
      "cell_type": "code",
      "metadata": {
        "colab": {
          "base_uri": "https://localhost:8080/"
        },
        "id": "ChD1V7L8KvDg",
        "outputId": "e80e7b9a-f784-41ac-81dd-3ad5990c610f"
      },
      "source": [
        "df.management_group.value_counts()"
      ],
      "execution_count": 1004,
      "outputs": [
        {
          "output_type": "execute_result",
          "data": {
            "text/plain": [
              "user-group    52490\n",
              "commercial     3638\n",
              "parastatal     1768\n",
              "other           943\n",
              "unknown         561\n",
              "Name: management_group, dtype: int64"
            ]
          },
          "metadata": {},
          "execution_count": 1004
        }
      ]
    },
    {
      "cell_type": "code",
      "metadata": {
        "id": "qrYiLMLMKvF7"
      },
      "source": [
        "# this also similar to 'scheme_management'.\n",
        "\n",
        "df = df.drop('management_group', axis=1)"
      ],
      "execution_count": 1005,
      "outputs": []
    },
    {
      "cell_type": "code",
      "metadata": {
        "colab": {
          "base_uri": "https://localhost:8080/"
        },
        "id": "uSV9dF0ZKvIG",
        "outputId": "0d7667e2-8105-4d09-9d52-258f8fabd69f"
      },
      "source": [
        "df.payment.value_counts()"
      ],
      "execution_count": 1006,
      "outputs": [
        {
          "output_type": "execute_result",
          "data": {
            "text/plain": [
              "never pay                25348\n",
              "pay per bucket            8985\n",
              "pay monthly               8300\n",
              "unknown                   8157\n",
              "pay when scheme fails     3914\n",
              "pay annually              3642\n",
              "other                     1054\n",
              "Name: payment, dtype: int64"
            ]
          },
          "metadata": {},
          "execution_count": 1006
        }
      ]
    },
    {
      "cell_type": "code",
      "metadata": {
        "colab": {
          "base_uri": "https://localhost:8080/"
        },
        "id": "7_9eGWfPKvKW",
        "outputId": "1bb7d5e0-22bf-430f-f0be-450be45451c0"
      },
      "source": [
        "df.payment_type.value_counts()"
      ],
      "execution_count": 1007,
      "outputs": [
        {
          "output_type": "execute_result",
          "data": {
            "text/plain": [
              "never pay     25348\n",
              "per bucket     8985\n",
              "monthly        8300\n",
              "unknown        8157\n",
              "on failure     3914\n",
              "annually       3642\n",
              "other          1054\n",
              "Name: payment_type, dtype: int64"
            ]
          },
          "metadata": {},
          "execution_count": 1007
        }
      ]
    },
    {
      "cell_type": "code",
      "metadata": {
        "id": "K1jySX1GKvNB"
      },
      "source": [
        "# Payment and payment_type contain identical data\n",
        "\n",
        "df = df.drop('payment', 1)"
      ],
      "execution_count": 1008,
      "outputs": []
    },
    {
      "cell_type": "code",
      "metadata": {
        "colab": {
          "base_uri": "https://localhost:8080/"
        },
        "id": "vgzEBPgmKvPb",
        "outputId": "4b585591-04f4-4440-9196-20bec15d8db2"
      },
      "source": [
        "df.water_quality.value_counts()"
      ],
      "execution_count": 1009,
      "outputs": [
        {
          "output_type": "execute_result",
          "data": {
            "text/plain": [
              "soft                  50818\n",
              "salty                  4856\n",
              "unknown                1876\n",
              "milky                   804\n",
              "coloured                490\n",
              "salty abandoned         339\n",
              "fluoride                200\n",
              "fluoride abandoned       17\n",
              "Name: water_quality, dtype: int64"
            ]
          },
          "metadata": {},
          "execution_count": 1009
        }
      ]
    },
    {
      "cell_type": "code",
      "metadata": {
        "colab": {
          "base_uri": "https://localhost:8080/"
        },
        "id": "nG0qY9zCLESd",
        "outputId": "26d06333-75fd-4766-f616-bafc0f058914"
      },
      "source": [
        "df.quality_group.value_counts()"
      ],
      "execution_count": 1010,
      "outputs": [
        {
          "output_type": "execute_result",
          "data": {
            "text/plain": [
              "good        50818\n",
              "salty        5195\n",
              "unknown      1876\n",
              "milky         804\n",
              "colored       490\n",
              "fluoride      217\n",
              "Name: quality_group, dtype: int64"
            ]
          },
          "metadata": {},
          "execution_count": 1010
        }
      ]
    },
    {
      "cell_type": "code",
      "metadata": {
        "id": "gzTO9cReLEVD"
      },
      "source": [
        "# Water_quality and quality_group contain identical data\n",
        "df = df.drop('quality_group', 1)"
      ],
      "execution_count": 1011,
      "outputs": []
    },
    {
      "cell_type": "code",
      "metadata": {
        "colab": {
          "base_uri": "https://localhost:8080/"
        },
        "id": "ximRflxDLEXc",
        "outputId": "2baae948-6213-4095-94d3-c761b14a3b14"
      },
      "source": [
        "df.quantity.value_counts()"
      ],
      "execution_count": 1012,
      "outputs": [
        {
          "output_type": "execute_result",
          "data": {
            "text/plain": [
              "enough          33186\n",
              "insufficient    15129\n",
              "dry              6246\n",
              "seasonal         4050\n",
              "unknown           789\n",
              "Name: quantity, dtype: int64"
            ]
          },
          "metadata": {},
          "execution_count": 1012
        }
      ]
    },
    {
      "cell_type": "code",
      "metadata": {
        "colab": {
          "base_uri": "https://localhost:8080/"
        },
        "id": "suSdj493LJYe",
        "outputId": "5be4ffa8-332f-4d0d-92a5-3d7fe08cb437"
      },
      "source": [
        "df.quantity_group.value_counts()"
      ],
      "execution_count": 1013,
      "outputs": [
        {
          "output_type": "execute_result",
          "data": {
            "text/plain": [
              "enough          33186\n",
              "insufficient    15129\n",
              "dry              6246\n",
              "seasonal         4050\n",
              "unknown           789\n",
              "Name: quantity_group, dtype: int64"
            ]
          },
          "metadata": {},
          "execution_count": 1013
        }
      ]
    },
    {
      "cell_type": "code",
      "metadata": {
        "id": "3Td4NIvrLJbE"
      },
      "source": [
        "# Quantity and quantity_group contain identical data.\n",
        "\n",
        "df = df.drop('quantity_group', 1)"
      ],
      "execution_count": 1014,
      "outputs": []
    },
    {
      "cell_type": "code",
      "metadata": {
        "colab": {
          "base_uri": "https://localhost:8080/"
        },
        "id": "cs3j4u05LJdu",
        "outputId": "2a3f8e16-9499-460d-c725-9ec0ec9d5c70"
      },
      "source": [
        "df.source.value_counts()"
      ],
      "execution_count": 1015,
      "outputs": [
        {
          "output_type": "execute_result",
          "data": {
            "text/plain": [
              "spring                  17021\n",
              "shallow well            16824\n",
              "machine dbh             11075\n",
              "river                    9612\n",
              "rainwater harvesting     2295\n",
              "hand dtw                  874\n",
              "lake                      765\n",
              "dam                       656\n",
              "other                     212\n",
              "unknown                    66\n",
              "Name: source, dtype: int64"
            ]
          },
          "metadata": {},
          "execution_count": 1015
        }
      ]
    },
    {
      "cell_type": "code",
      "metadata": {
        "colab": {
          "base_uri": "https://localhost:8080/"
        },
        "id": "itsQe6QzLJgB",
        "outputId": "702e188b-b806-4a13-c5a3-32e8538f644b"
      },
      "source": [
        "df.source_class.value_counts()"
      ],
      "execution_count": 1016,
      "outputs": [
        {
          "output_type": "execute_result",
          "data": {
            "text/plain": [
              "groundwater    45794\n",
              "surface        13328\n",
              "unknown          278\n",
              "Name: source_class, dtype: int64"
            ]
          },
          "metadata": {},
          "execution_count": 1016
        }
      ]
    },
    {
      "cell_type": "code",
      "metadata": {
        "colab": {
          "base_uri": "https://localhost:8080/"
        },
        "id": "Hm2twTkZLJiQ",
        "outputId": "c8bdd30b-3576-4e43-a062-64eb9114f861"
      },
      "source": [
        "df.source_type.value_counts()"
      ],
      "execution_count": 1017,
      "outputs": [
        {
          "output_type": "execute_result",
          "data": {
            "text/plain": [
              "spring                  17021\n",
              "shallow well            16824\n",
              "borehole                11949\n",
              "river/lake              10377\n",
              "rainwater harvesting     2295\n",
              "dam                       656\n",
              "other                     278\n",
              "Name: source_type, dtype: int64"
            ]
          },
          "metadata": {},
          "execution_count": 1017
        }
      ]
    },
    {
      "cell_type": "code",
      "metadata": {
        "id": "iIIYM_AaLJkm"
      },
      "source": [
        "# Source and source_type contain very similar information\n",
        "\n",
        "df = df.drop('source', 1)"
      ],
      "execution_count": 1018,
      "outputs": []
    },
    {
      "cell_type": "code",
      "metadata": {
        "id": "R2DpCTvILJnh"
      },
      "source": [
        "# gps_height, longitude, latitude, region_code and district_code are all geographic info\n",
        "# 'num_private' hasn't been given a discription\n",
        "\n",
        "df = df.drop(['longitude', 'latitude', 'region_code', 'district_code',\n",
        "             'num_private', 'id'], axis=1)"
      ],
      "execution_count": 1019,
      "outputs": []
    },
    {
      "cell_type": "code",
      "metadata": {
        "colab": {
          "base_uri": "https://localhost:8080/"
        },
        "id": "_iJDOojQLEaL",
        "outputId": "1d288c48-1079-4e8b-d7cd-83784914763a"
      },
      "source": [
        "str_cols.apply(lambda x: len(x.unique()))"
      ],
      "execution_count": 1020,
      "outputs": [
        {
          "output_type": "execute_result",
          "data": {
            "text/plain": [
              "date_recorded              356\n",
              "funder                       6\n",
              "installer                    6\n",
              "wpt_name                 37400\n",
              "basin                        9\n",
              "region                      21\n",
              "lga                        125\n",
              "ward                      2092\n",
              "public_meeting               3\n",
              "recorded_by                  1\n",
              "scheme_management            6\n",
              "permit                       3\n",
              "extraction_type             18\n",
              "extraction_type_group       13\n",
              "extraction_type_class        7\n",
              "management                  12\n",
              "management_group             5\n",
              "payment                      7\n",
              "payment_type                 7\n",
              "water_quality                8\n",
              "quality_group                6\n",
              "quantity                     5\n",
              "quantity_group               5\n",
              "source                      10\n",
              "source_type                  7\n",
              "source_class                 3\n",
              "waterpoint_type              7\n",
              "waterpoint_type_group        6\n",
              "status_group                 3\n",
              "dtype: int64"
            ]
          },
          "metadata": {},
          "execution_count": 1020
        }
      ]
    },
    {
      "cell_type": "code",
      "metadata": {
        "colab": {
          "base_uri": "https://localhost:8080/"
        },
        "id": "QjCpqWs7LEdB",
        "outputId": "17d4efc3-87c9-4410-a3eb-e1702d7fa416"
      },
      "source": [
        "df.construction_year.value_counts()"
      ],
      "execution_count": 1022,
      "outputs": [
        {
          "output_type": "execute_result",
          "data": {
            "text/plain": [
              "0       20709\n",
              "2010     2645\n",
              "2008     2613\n",
              "2009     2533\n",
              "2000     2091\n",
              "2007     1587\n",
              "2006     1471\n",
              "2003     1286\n",
              "2011     1256\n",
              "2004     1123\n",
              "2012     1084\n",
              "2002     1075\n",
              "1978     1037\n",
              "1995     1014\n",
              "2005     1011\n",
              "1999      979\n",
              "1998      966\n",
              "1990      954\n",
              "1985      945\n",
              "1980      811\n",
              "1996      811\n",
              "1984      779\n",
              "1982      744\n",
              "1994      738\n",
              "1972      708\n",
              "1974      676\n",
              "1997      644\n",
              "1992      640\n",
              "1993      608\n",
              "2001      540\n",
              "1988      521\n",
              "1983      488\n",
              "1975      437\n",
              "1986      434\n",
              "1976      414\n",
              "1970      411\n",
              "1991      324\n",
              "1989      316\n",
              "1987      302\n",
              "1981      238\n",
              "1977      202\n",
              "1979      192\n",
              "1973      184\n",
              "2013      176\n",
              "1971      145\n",
              "1960      102\n",
              "1967       88\n",
              "1963       85\n",
              "1968       77\n",
              "1969       59\n",
              "1964       40\n",
              "1962       30\n",
              "1961       21\n",
              "1965       19\n",
              "1966       17\n",
              "Name: construction_year, dtype: int64"
            ]
          },
          "metadata": {},
          "execution_count": 1022
        }
      ]
    },
    {
      "cell_type": "code",
      "metadata": {
        "id": "KOd3emVlLiYE"
      },
      "source": [
        "# make construction_year a categorical column\n",
        "\n",
        "def construction_make_categorical(row):\n",
        "    if int(row['construction_year']) >= 1960 and int(row['construction_year']) < 1970:\n",
        "        return '60s'\n",
        "    elif row['construction_year'] >= 1970 and row['construction_year'] < 1980:\n",
        "        return '70s'\n",
        "    elif row['construction_year'] >= 1980 and row['construction_year'] < 1990:\n",
        "        return '80s'\n",
        "    elif row['construction_year'] >= 1990 and row['construction_year'] < 2000:\n",
        "        return '90s'\n",
        "    elif row['construction_year'] >= 2000 and row['construction_year'] < 2010:\n",
        "        return '00s'\n",
        "    elif row['construction_year'] >= 2010:\n",
        "        return '10s'\n",
        "    else:\n",
        "        return 'unknown'\n",
        "    \n",
        "df['construction_year'] = df.apply(lambda row: construction_make_categorical(row), axis=1)"
      ],
      "execution_count": 1023,
      "outputs": []
    },
    {
      "cell_type": "code",
      "metadata": {
        "colab": {
          "base_uri": "https://localhost:8080/"
        },
        "id": "NjfemQ2_LidE",
        "outputId": "8da8a529-1b97-49e9-f403-5304be17d57b"
      },
      "source": [
        "df.info()"
      ],
      "execution_count": 1024,
      "outputs": [
        {
          "output_type": "stream",
          "name": "stdout",
          "text": [
            "<class 'pandas.core.frame.DataFrame'>\n",
            "Int64Index: 59400 entries, 0 to 59399\n",
            "Data columns (total 20 columns):\n",
            " #   Column                 Non-Null Count  Dtype  \n",
            "---  ------                 --------------  -----  \n",
            " 0   amount_tsh             59400 non-null  float64\n",
            " 1   days_since_recorded    59400 non-null  int64  \n",
            " 2   funder                 59400 non-null  object \n",
            " 3   gps_height             59400 non-null  int64  \n",
            " 4   installer              59400 non-null  object \n",
            " 5   basin                  59400 non-null  object \n",
            " 6   population             59400 non-null  int64  \n",
            " 7   public_meeting         59400 non-null  object \n",
            " 8   scheme_management      59400 non-null  object \n",
            " 9   permit                 59400 non-null  object \n",
            " 10  construction_year      59400 non-null  object \n",
            " 11  extraction_type_class  59400 non-null  object \n",
            " 12  payment_type           59400 non-null  object \n",
            " 13  water_quality          59400 non-null  object \n",
            " 14  quantity               59400 non-null  object \n",
            " 15  source_type            59400 non-null  object \n",
            " 16  source_class           59400 non-null  object \n",
            " 17  waterpoint_type        59400 non-null  object \n",
            " 18  waterpoint_type_group  59400 non-null  object \n",
            " 19  status_group           59400 non-null  object \n",
            "dtypes: float64(1), int64(3), object(16)\n",
            "memory usage: 9.5+ MB\n"
          ]
        }
      ]
    },
    {
      "cell_type": "code",
      "metadata": {
        "colab": {
          "base_uri": "https://localhost:8080/"
        },
        "id": "ucWglyEvLiiK",
        "outputId": "8ef40667-07cc-4ba3-eae8-ddd6ea2af2d7"
      },
      "source": [
        "#amount of people served by wells\n",
        "\n",
        "df.population.describe()"
      ],
      "execution_count": 1025,
      "outputs": [
        {
          "output_type": "execute_result",
          "data": {
            "text/plain": [
              "count    59400.000000\n",
              "mean       179.909983\n",
              "std        471.482176\n",
              "min          0.000000\n",
              "25%          0.000000\n",
              "50%         25.000000\n",
              "75%        215.000000\n",
              "max      30500.000000\n",
              "Name: population, dtype: float64"
            ]
          },
          "metadata": {},
          "execution_count": 1025
        }
      ]
    },
    {
      "cell_type": "code",
      "metadata": {
        "colab": {
          "base_uri": "https://localhost:8080/"
        },
        "id": "wVETts9uL_aF",
        "outputId": "b02f3403-7a48-4646-9d9e-6f29569f4f81"
      },
      "source": [
        "df.amount_tsh.describe()"
      ],
      "execution_count": 1026,
      "outputs": [
        {
          "output_type": "execute_result",
          "data": {
            "text/plain": [
              "count     59400.000000\n",
              "mean        317.650385\n",
              "std        2997.574558\n",
              "min           0.000000\n",
              "25%           0.000000\n",
              "50%           0.000000\n",
              "75%          20.000000\n",
              "max      350000.000000\n",
              "Name: amount_tsh, dtype: float64"
            ]
          },
          "metadata": {},
          "execution_count": 1026
        }
      ]
    },
    {
      "cell_type": "code",
      "metadata": {
        "colab": {
          "base_uri": "https://localhost:8080/"
        },
        "id": "vaT9t-oMgpot",
        "outputId": "15d5e8f1-6ad7-4cef-8bfc-c09ab58501a7"
      },
      "source": [
        "df.gps_height.describe()"
      ],
      "execution_count": 1027,
      "outputs": [
        {
          "output_type": "execute_result",
          "data": {
            "text/plain": [
              "count    59400.000000\n",
              "mean       668.297239\n",
              "std        693.116350\n",
              "min        -90.000000\n",
              "25%          0.000000\n",
              "50%        369.000000\n",
              "75%       1319.250000\n",
              "max       2770.000000\n",
              "Name: gps_height, dtype: float64"
            ]
          },
          "metadata": {},
          "execution_count": 1027
        }
      ]
    },
    {
      "cell_type": "code",
      "metadata": {
        "colab": {
          "base_uri": "https://localhost:8080/",
          "height": 202
        },
        "id": "viEcblNSqO8T",
        "outputId": "44acaa7f-feff-4d88-d04f-e6af05088b2c"
      },
      "source": [
        "#from sklearn.preprocessing import MinMaxScaler\n",
        "\n",
        "features_to_normalize = ['gps_height', 'amount_tsh', 'population']\n",
        "scaler = StandardScaler()\n",
        "df[features_to_normalize] = scaler.fit_transform(df[features_to_normalize])\n",
        "df[features_to_normalize].head()"
      ],
      "execution_count": 1028,
      "outputs": [
        {
          "output_type": "execute_result",
          "data": {
            "text/html": [
              "<div>\n",
              "<style scoped>\n",
              "    .dataframe tbody tr th:only-of-type {\n",
              "        vertical-align: middle;\n",
              "    }\n",
              "\n",
              "    .dataframe tbody tr th {\n",
              "        vertical-align: top;\n",
              "    }\n",
              "\n",
              "    .dataframe thead th {\n",
              "        text-align: right;\n",
              "    }\n",
              "</style>\n",
              "<table border=\"1\" class=\"dataframe\">\n",
              "  <thead>\n",
              "    <tr style=\"text-align: right;\">\n",
              "      <th></th>\n",
              "      <th>gps_height</th>\n",
              "      <th>amount_tsh</th>\n",
              "      <th>population</th>\n",
              "    </tr>\n",
              "  </thead>\n",
              "  <tbody>\n",
              "    <tr>\n",
              "      <th>0</th>\n",
              "      <td>1.041252</td>\n",
              "      <td>1.895665</td>\n",
              "      <td>-0.150399</td>\n",
              "    </tr>\n",
              "    <tr>\n",
              "      <th>1</th>\n",
              "      <td>1.054237</td>\n",
              "      <td>-0.105970</td>\n",
              "      <td>0.212290</td>\n",
              "    </tr>\n",
              "    <tr>\n",
              "      <th>2</th>\n",
              "      <td>0.025541</td>\n",
              "      <td>-0.097630</td>\n",
              "      <td>0.148660</td>\n",
              "    </tr>\n",
              "    <tr>\n",
              "      <th>3</th>\n",
              "      <td>-0.584751</td>\n",
              "      <td>-0.105970</td>\n",
              "      <td>-0.258570</td>\n",
              "    </tr>\n",
              "    <tr>\n",
              "      <th>4</th>\n",
              "      <td>-0.964200</td>\n",
              "      <td>-0.105970</td>\n",
              "      <td>-0.381587</td>\n",
              "    </tr>\n",
              "  </tbody>\n",
              "</table>\n",
              "</div>"
            ],
            "text/plain": [
              "   gps_height  amount_tsh  population\n",
              "0    1.041252    1.895665   -0.150399\n",
              "1    1.054237   -0.105970    0.212290\n",
              "2    0.025541   -0.097630    0.148660\n",
              "3   -0.584751   -0.105970   -0.258570\n",
              "4   -0.964200   -0.105970   -0.381587"
            ]
          },
          "metadata": {},
          "execution_count": 1028
        }
      ]
    },
    {
      "cell_type": "code",
      "metadata": {
        "colab": {
          "base_uri": "https://localhost:8080/",
          "height": 338
        },
        "id": "HO8qEpprCYh7",
        "outputId": "21be67a2-9418-4941-cc76-a7335542ed8e"
      },
      "source": [
        "df.head()"
      ],
      "execution_count": 1029,
      "outputs": [
        {
          "output_type": "execute_result",
          "data": {
            "text/html": [
              "<div>\n",
              "<style scoped>\n",
              "    .dataframe tbody tr th:only-of-type {\n",
              "        vertical-align: middle;\n",
              "    }\n",
              "\n",
              "    .dataframe tbody tr th {\n",
              "        vertical-align: top;\n",
              "    }\n",
              "\n",
              "    .dataframe thead th {\n",
              "        text-align: right;\n",
              "    }\n",
              "</style>\n",
              "<table border=\"1\" class=\"dataframe\">\n",
              "  <thead>\n",
              "    <tr style=\"text-align: right;\">\n",
              "      <th></th>\n",
              "      <th>amount_tsh</th>\n",
              "      <th>days_since_recorded</th>\n",
              "      <th>funder</th>\n",
              "      <th>gps_height</th>\n",
              "      <th>installer</th>\n",
              "      <th>basin</th>\n",
              "      <th>population</th>\n",
              "      <th>public_meeting</th>\n",
              "      <th>scheme_management</th>\n",
              "      <th>permit</th>\n",
              "      <th>construction_year</th>\n",
              "      <th>extraction_type_class</th>\n",
              "      <th>payment_type</th>\n",
              "      <th>water_quality</th>\n",
              "      <th>quantity</th>\n",
              "      <th>source_type</th>\n",
              "      <th>source_class</th>\n",
              "      <th>waterpoint_type</th>\n",
              "      <th>waterpoint_type_group</th>\n",
              "      <th>status_group</th>\n",
              "    </tr>\n",
              "  </thead>\n",
              "  <tbody>\n",
              "    <tr>\n",
              "      <th>0</th>\n",
              "      <td>1.895665</td>\n",
              "      <td>995</td>\n",
              "      <td>other</td>\n",
              "      <td>1.041252</td>\n",
              "      <td>other</td>\n",
              "      <td>Lake Nyasa</td>\n",
              "      <td>-0.150399</td>\n",
              "      <td>True</td>\n",
              "      <td>vwc</td>\n",
              "      <td>False</td>\n",
              "      <td>90s</td>\n",
              "      <td>gravity</td>\n",
              "      <td>annually</td>\n",
              "      <td>soft</td>\n",
              "      <td>enough</td>\n",
              "      <td>spring</td>\n",
              "      <td>groundwater</td>\n",
              "      <td>communal standpipe</td>\n",
              "      <td>communal standpipe</td>\n",
              "      <td>functional</td>\n",
              "    </tr>\n",
              "    <tr>\n",
              "      <th>1</th>\n",
              "      <td>-0.105970</td>\n",
              "      <td>272</td>\n",
              "      <td>other</td>\n",
              "      <td>1.054237</td>\n",
              "      <td>other</td>\n",
              "      <td>Lake Victoria</td>\n",
              "      <td>0.212290</td>\n",
              "      <td>Unknown</td>\n",
              "      <td>other</td>\n",
              "      <td>True</td>\n",
              "      <td>10s</td>\n",
              "      <td>gravity</td>\n",
              "      <td>never pay</td>\n",
              "      <td>soft</td>\n",
              "      <td>insufficient</td>\n",
              "      <td>rainwater harvesting</td>\n",
              "      <td>surface</td>\n",
              "      <td>communal standpipe</td>\n",
              "      <td>communal standpipe</td>\n",
              "      <td>functional</td>\n",
              "    </tr>\n",
              "    <tr>\n",
              "      <th>2</th>\n",
              "      <td>-0.097630</td>\n",
              "      <td>281</td>\n",
              "      <td>other</td>\n",
              "      <td>0.025541</td>\n",
              "      <td>other</td>\n",
              "      <td>Pangani</td>\n",
              "      <td>0.148660</td>\n",
              "      <td>True</td>\n",
              "      <td>vwc</td>\n",
              "      <td>True</td>\n",
              "      <td>00s</td>\n",
              "      <td>gravity</td>\n",
              "      <td>per bucket</td>\n",
              "      <td>soft</td>\n",
              "      <td>enough</td>\n",
              "      <td>dam</td>\n",
              "      <td>surface</td>\n",
              "      <td>communal standpipe multiple</td>\n",
              "      <td>communal standpipe</td>\n",
              "      <td>functional</td>\n",
              "    </tr>\n",
              "    <tr>\n",
              "      <th>3</th>\n",
              "      <td>-0.105970</td>\n",
              "      <td>309</td>\n",
              "      <td>other</td>\n",
              "      <td>-0.584751</td>\n",
              "      <td>other</td>\n",
              "      <td>Ruvuma / Southern Coast</td>\n",
              "      <td>-0.258570</td>\n",
              "      <td>True</td>\n",
              "      <td>vwc</td>\n",
              "      <td>True</td>\n",
              "      <td>80s</td>\n",
              "      <td>submersible</td>\n",
              "      <td>never pay</td>\n",
              "      <td>soft</td>\n",
              "      <td>dry</td>\n",
              "      <td>borehole</td>\n",
              "      <td>groundwater</td>\n",
              "      <td>communal standpipe multiple</td>\n",
              "      <td>communal standpipe</td>\n",
              "      <td>non functional</td>\n",
              "    </tr>\n",
              "    <tr>\n",
              "      <th>4</th>\n",
              "      <td>-0.105970</td>\n",
              "      <td>874</td>\n",
              "      <td>other</td>\n",
              "      <td>-0.964200</td>\n",
              "      <td>other</td>\n",
              "      <td>Lake Victoria</td>\n",
              "      <td>-0.381587</td>\n",
              "      <td>True</td>\n",
              "      <td>other</td>\n",
              "      <td>True</td>\n",
              "      <td>unknown</td>\n",
              "      <td>gravity</td>\n",
              "      <td>never pay</td>\n",
              "      <td>soft</td>\n",
              "      <td>seasonal</td>\n",
              "      <td>rainwater harvesting</td>\n",
              "      <td>surface</td>\n",
              "      <td>communal standpipe</td>\n",
              "      <td>communal standpipe</td>\n",
              "      <td>functional</td>\n",
              "    </tr>\n",
              "  </tbody>\n",
              "</table>\n",
              "</div>"
            ],
            "text/plain": [
              "   amount_tsh  days_since_recorded  ... waterpoint_type_group    status_group\n",
              "0    1.895665                  995  ...    communal standpipe      functional\n",
              "1   -0.105970                  272  ...    communal standpipe      functional\n",
              "2   -0.097630                  281  ...    communal standpipe      functional\n",
              "3   -0.105970                  309  ...    communal standpipe  non functional\n",
              "4   -0.105970                  874  ...    communal standpipe      functional\n",
              "\n",
              "[5 rows x 20 columns]"
            ]
          },
          "metadata": {},
          "execution_count": 1029
        }
      ]
    },
    {
      "cell_type": "code",
      "metadata": {
        "id": "tOMMc3TNMJxu"
      },
      "source": [
        "#df = df.drop('status_group', 1)\n",
        "df.to_csv('pump_train_for_models.csv', index=False) "
      ],
      "execution_count": 1030,
      "outputs": []
    },
    {
      "cell_type": "code",
      "metadata": {
        "id": "fCOyvf651JdH"
      },
      "source": [
        "test = pd.read_csv(r\"Test_set_values.csv\")"
      ],
      "execution_count": 1031,
      "outputs": []
    },
    {
      "cell_type": "code",
      "metadata": {
        "id": "S4YSU0OR1Ivk"
      },
      "source": [
        "test['funder'] = test['funder'].str.lower()\n",
        "test['installer'] = test['installer'].str.lower()\n",
        "test['scheme_management'] = test['scheme_management'].str.lower()"
      ],
      "execution_count": 1032,
      "outputs": []
    },
    {
      "cell_type": "code",
      "metadata": {
        "colab": {
          "base_uri": "https://localhost:8080/",
          "height": 422
        },
        "id": "ZxMTuH_91MzD",
        "outputId": "ba9e9b2e-4696-4a95-c662-e29c1f017a96"
      },
      "source": [
        "test.head()"
      ],
      "execution_count": 1033,
      "outputs": [
        {
          "output_type": "execute_result",
          "data": {
            "text/html": [
              "<div>\n",
              "<style scoped>\n",
              "    .dataframe tbody tr th:only-of-type {\n",
              "        vertical-align: middle;\n",
              "    }\n",
              "\n",
              "    .dataframe tbody tr th {\n",
              "        vertical-align: top;\n",
              "    }\n",
              "\n",
              "    .dataframe thead th {\n",
              "        text-align: right;\n",
              "    }\n",
              "</style>\n",
              "<table border=\"1\" class=\"dataframe\">\n",
              "  <thead>\n",
              "    <tr style=\"text-align: right;\">\n",
              "      <th></th>\n",
              "      <th>id</th>\n",
              "      <th>amount_tsh</th>\n",
              "      <th>date_recorded</th>\n",
              "      <th>funder</th>\n",
              "      <th>gps_height</th>\n",
              "      <th>installer</th>\n",
              "      <th>longitude</th>\n",
              "      <th>latitude</th>\n",
              "      <th>wpt_name</th>\n",
              "      <th>num_private</th>\n",
              "      <th>basin</th>\n",
              "      <th>subvillage</th>\n",
              "      <th>region</th>\n",
              "      <th>region_code</th>\n",
              "      <th>district_code</th>\n",
              "      <th>lga</th>\n",
              "      <th>ward</th>\n",
              "      <th>population</th>\n",
              "      <th>public_meeting</th>\n",
              "      <th>recorded_by</th>\n",
              "      <th>scheme_management</th>\n",
              "      <th>scheme_name</th>\n",
              "      <th>permit</th>\n",
              "      <th>construction_year</th>\n",
              "      <th>extraction_type</th>\n",
              "      <th>extraction_type_group</th>\n",
              "      <th>extraction_type_class</th>\n",
              "      <th>management</th>\n",
              "      <th>management_group</th>\n",
              "      <th>payment</th>\n",
              "      <th>payment_type</th>\n",
              "      <th>water_quality</th>\n",
              "      <th>quality_group</th>\n",
              "      <th>quantity</th>\n",
              "      <th>quantity_group</th>\n",
              "      <th>source</th>\n",
              "      <th>source_type</th>\n",
              "      <th>source_class</th>\n",
              "      <th>waterpoint_type</th>\n",
              "      <th>waterpoint_type_group</th>\n",
              "    </tr>\n",
              "  </thead>\n",
              "  <tbody>\n",
              "    <tr>\n",
              "      <th>0</th>\n",
              "      <td>50785</td>\n",
              "      <td>0.0</td>\n",
              "      <td>2013-02-04</td>\n",
              "      <td>dmdd</td>\n",
              "      <td>1996</td>\n",
              "      <td>dmdd</td>\n",
              "      <td>35.290799</td>\n",
              "      <td>-4.059696</td>\n",
              "      <td>Dinamu Secondary School</td>\n",
              "      <td>0</td>\n",
              "      <td>Internal</td>\n",
              "      <td>Magoma</td>\n",
              "      <td>Manyara</td>\n",
              "      <td>21</td>\n",
              "      <td>3</td>\n",
              "      <td>Mbulu</td>\n",
              "      <td>Bashay</td>\n",
              "      <td>321</td>\n",
              "      <td>True</td>\n",
              "      <td>GeoData Consultants Ltd</td>\n",
              "      <td>parastatal</td>\n",
              "      <td>NaN</td>\n",
              "      <td>True</td>\n",
              "      <td>2012</td>\n",
              "      <td>other</td>\n",
              "      <td>other</td>\n",
              "      <td>other</td>\n",
              "      <td>parastatal</td>\n",
              "      <td>parastatal</td>\n",
              "      <td>never pay</td>\n",
              "      <td>never pay</td>\n",
              "      <td>soft</td>\n",
              "      <td>good</td>\n",
              "      <td>seasonal</td>\n",
              "      <td>seasonal</td>\n",
              "      <td>rainwater harvesting</td>\n",
              "      <td>rainwater harvesting</td>\n",
              "      <td>surface</td>\n",
              "      <td>other</td>\n",
              "      <td>other</td>\n",
              "    </tr>\n",
              "    <tr>\n",
              "      <th>1</th>\n",
              "      <td>51630</td>\n",
              "      <td>0.0</td>\n",
              "      <td>2013-02-04</td>\n",
              "      <td>government of tanzania</td>\n",
              "      <td>1569</td>\n",
              "      <td>dwe</td>\n",
              "      <td>36.656709</td>\n",
              "      <td>-3.309214</td>\n",
              "      <td>Kimnyak</td>\n",
              "      <td>0</td>\n",
              "      <td>Pangani</td>\n",
              "      <td>Kimnyak</td>\n",
              "      <td>Arusha</td>\n",
              "      <td>2</td>\n",
              "      <td>2</td>\n",
              "      <td>Arusha Rural</td>\n",
              "      <td>Kimnyaki</td>\n",
              "      <td>300</td>\n",
              "      <td>True</td>\n",
              "      <td>GeoData Consultants Ltd</td>\n",
              "      <td>vwc</td>\n",
              "      <td>TPRI pipe line</td>\n",
              "      <td>True</td>\n",
              "      <td>2000</td>\n",
              "      <td>gravity</td>\n",
              "      <td>gravity</td>\n",
              "      <td>gravity</td>\n",
              "      <td>vwc</td>\n",
              "      <td>user-group</td>\n",
              "      <td>never pay</td>\n",
              "      <td>never pay</td>\n",
              "      <td>soft</td>\n",
              "      <td>good</td>\n",
              "      <td>insufficient</td>\n",
              "      <td>insufficient</td>\n",
              "      <td>spring</td>\n",
              "      <td>spring</td>\n",
              "      <td>groundwater</td>\n",
              "      <td>communal standpipe</td>\n",
              "      <td>communal standpipe</td>\n",
              "    </tr>\n",
              "    <tr>\n",
              "      <th>2</th>\n",
              "      <td>17168</td>\n",
              "      <td>0.0</td>\n",
              "      <td>2013-02-01</td>\n",
              "      <td>NaN</td>\n",
              "      <td>1567</td>\n",
              "      <td>NaN</td>\n",
              "      <td>34.767863</td>\n",
              "      <td>-5.004344</td>\n",
              "      <td>Puma Secondary</td>\n",
              "      <td>0</td>\n",
              "      <td>Internal</td>\n",
              "      <td>Msatu</td>\n",
              "      <td>Singida</td>\n",
              "      <td>13</td>\n",
              "      <td>2</td>\n",
              "      <td>Singida Rural</td>\n",
              "      <td>Puma</td>\n",
              "      <td>500</td>\n",
              "      <td>True</td>\n",
              "      <td>GeoData Consultants Ltd</td>\n",
              "      <td>vwc</td>\n",
              "      <td>P</td>\n",
              "      <td>NaN</td>\n",
              "      <td>2010</td>\n",
              "      <td>other</td>\n",
              "      <td>other</td>\n",
              "      <td>other</td>\n",
              "      <td>vwc</td>\n",
              "      <td>user-group</td>\n",
              "      <td>never pay</td>\n",
              "      <td>never pay</td>\n",
              "      <td>soft</td>\n",
              "      <td>good</td>\n",
              "      <td>insufficient</td>\n",
              "      <td>insufficient</td>\n",
              "      <td>rainwater harvesting</td>\n",
              "      <td>rainwater harvesting</td>\n",
              "      <td>surface</td>\n",
              "      <td>other</td>\n",
              "      <td>other</td>\n",
              "    </tr>\n",
              "    <tr>\n",
              "      <th>3</th>\n",
              "      <td>45559</td>\n",
              "      <td>0.0</td>\n",
              "      <td>2013-01-22</td>\n",
              "      <td>finn water</td>\n",
              "      <td>267</td>\n",
              "      <td>finn water</td>\n",
              "      <td>38.058046</td>\n",
              "      <td>-9.418672</td>\n",
              "      <td>Kwa Mzee Pange</td>\n",
              "      <td>0</td>\n",
              "      <td>Ruvuma / Southern Coast</td>\n",
              "      <td>Kipindimbi</td>\n",
              "      <td>Lindi</td>\n",
              "      <td>80</td>\n",
              "      <td>43</td>\n",
              "      <td>Liwale</td>\n",
              "      <td>Mkutano</td>\n",
              "      <td>250</td>\n",
              "      <td>NaN</td>\n",
              "      <td>GeoData Consultants Ltd</td>\n",
              "      <td>vwc</td>\n",
              "      <td>NaN</td>\n",
              "      <td>True</td>\n",
              "      <td>1987</td>\n",
              "      <td>other</td>\n",
              "      <td>other</td>\n",
              "      <td>other</td>\n",
              "      <td>vwc</td>\n",
              "      <td>user-group</td>\n",
              "      <td>unknown</td>\n",
              "      <td>unknown</td>\n",
              "      <td>soft</td>\n",
              "      <td>good</td>\n",
              "      <td>dry</td>\n",
              "      <td>dry</td>\n",
              "      <td>shallow well</td>\n",
              "      <td>shallow well</td>\n",
              "      <td>groundwater</td>\n",
              "      <td>other</td>\n",
              "      <td>other</td>\n",
              "    </tr>\n",
              "    <tr>\n",
              "      <th>4</th>\n",
              "      <td>49871</td>\n",
              "      <td>500.0</td>\n",
              "      <td>2013-03-27</td>\n",
              "      <td>bruder</td>\n",
              "      <td>1260</td>\n",
              "      <td>bruder</td>\n",
              "      <td>35.006123</td>\n",
              "      <td>-10.950412</td>\n",
              "      <td>Kwa Mzee Turuka</td>\n",
              "      <td>0</td>\n",
              "      <td>Ruvuma / Southern Coast</td>\n",
              "      <td>Losonga</td>\n",
              "      <td>Ruvuma</td>\n",
              "      <td>10</td>\n",
              "      <td>3</td>\n",
              "      <td>Mbinga</td>\n",
              "      <td>Mbinga Urban</td>\n",
              "      <td>60</td>\n",
              "      <td>NaN</td>\n",
              "      <td>GeoData Consultants Ltd</td>\n",
              "      <td>water board</td>\n",
              "      <td>BRUDER</td>\n",
              "      <td>True</td>\n",
              "      <td>2000</td>\n",
              "      <td>gravity</td>\n",
              "      <td>gravity</td>\n",
              "      <td>gravity</td>\n",
              "      <td>water board</td>\n",
              "      <td>user-group</td>\n",
              "      <td>pay monthly</td>\n",
              "      <td>monthly</td>\n",
              "      <td>soft</td>\n",
              "      <td>good</td>\n",
              "      <td>enough</td>\n",
              "      <td>enough</td>\n",
              "      <td>spring</td>\n",
              "      <td>spring</td>\n",
              "      <td>groundwater</td>\n",
              "      <td>communal standpipe</td>\n",
              "      <td>communal standpipe</td>\n",
              "    </tr>\n",
              "  </tbody>\n",
              "</table>\n",
              "</div>"
            ],
            "text/plain": [
              "      id  amount_tsh  ...     waterpoint_type waterpoint_type_group\n",
              "0  50785         0.0  ...               other                 other\n",
              "1  51630         0.0  ...  communal standpipe    communal standpipe\n",
              "2  17168         0.0  ...               other                 other\n",
              "3  45559         0.0  ...               other                 other\n",
              "4  49871       500.0  ...  communal standpipe    communal standpipe\n",
              "\n",
              "[5 rows x 40 columns]"
            ]
          },
          "metadata": {},
          "execution_count": 1033
        }
      ]
    },
    {
      "cell_type": "code",
      "metadata": {
        "colab": {
          "base_uri": "https://localhost:8080/"
        },
        "id": "3da4D8ZnMQ1P",
        "outputId": "b163a42a-399d-4b9d-e539-716b313a71b1"
      },
      "source": [
        "# perform the same modifications to the test set\n",
        "\n",
        "testid = test['id']\n",
        "\n",
        "test = test.drop(['longitude', 'latitude', 'region_code', 'district_code',\n",
        "                  'num_private', 'id', 'payment', 'management_group', 'management', \n",
        "                  'extraction_type', 'extraction_type_group', 'recorded_by','region', 'lga',\n",
        "                  'ward', 'wpt_name', 'scheme_name', 'subvillage', 'quantity_group',\n",
        "                 'quality_group', 'source'], axis=1)\n",
        "\n",
        "test.date_recorded = pd.datetime(2013, 12, 3) - pd.to_datetime(test.date_recorded)\n",
        "test.columns = ['days_since_recorded' if x=='date_recorded' else x for x in test.columns]\n",
        "test.days_since_recorded = test.days_since_recorded.astype('timedelta64[D]').astype(int)\n",
        "\n",
        "test.permit = test.permit.fillna('Unknown')\n",
        "test.public_meeting = test.public_meeting.fillna('Unknown')\n",
        "\n",
        "test['scheme_management'] = test.apply(lambda row: scheme_keep_top(row), axis=1)\n",
        "test['construction_year'] = test.apply(lambda row: construction_make_categorical(row), axis=1)\n",
        "test['installer'] = test.apply(lambda row: installer_keep_top(row), axis=1)\n",
        "test['funder'] = test.apply(lambda row: funder_keep_top(row), axis=1)"
      ],
      "execution_count": 1034,
      "outputs": [
        {
          "output_type": "stream",
          "name": "stderr",
          "text": [
            "/usr/local/lib/python3.7/dist-packages/ipykernel_launcher.py:11: FutureWarning: The pandas.datetime class is deprecated and will be removed from pandas in a future version. Import from datetime module instead.\n",
            "  # This is added back by InteractiveShellApp.init_path()\n"
          ]
        }
      ]
    },
    {
      "cell_type": "code",
      "metadata": {
        "colab": {
          "base_uri": "https://localhost:8080/",
          "height": 202
        },
        "id": "XbPTeU_MiX69",
        "outputId": "6d566c95-d5a7-42ab-913b-312fc8807983"
      },
      "source": [
        "test[features_to_normalize] = scaler.fit_transform(test[features_to_normalize])\n",
        "test[features_to_normalize].head()"
      ],
      "execution_count": 1035,
      "outputs": [
        {
          "output_type": "execute_result",
          "data": {
            "text/html": [
              "<div>\n",
              "<style scoped>\n",
              "    .dataframe tbody tr th:only-of-type {\n",
              "        vertical-align: middle;\n",
              "    }\n",
              "\n",
              "    .dataframe tbody tr th {\n",
              "        vertical-align: top;\n",
              "    }\n",
              "\n",
              "    .dataframe thead th {\n",
              "        text-align: right;\n",
              "    }\n",
              "</style>\n",
              "<table border=\"1\" class=\"dataframe\">\n",
              "  <thead>\n",
              "    <tr style=\"text-align: right;\">\n",
              "      <th></th>\n",
              "      <th>gps_height</th>\n",
              "      <th>amount_tsh</th>\n",
              "      <th>population</th>\n",
              "    </tr>\n",
              "  </thead>\n",
              "  <tbody>\n",
              "    <tr>\n",
              "      <th>0</th>\n",
              "      <td>1.939784</td>\n",
              "      <td>-0.128571</td>\n",
              "      <td>0.291567</td>\n",
              "    </tr>\n",
              "    <tr>\n",
              "      <th>1</th>\n",
              "      <td>1.322052</td>\n",
              "      <td>-0.128571</td>\n",
              "      <td>0.246837</td>\n",
              "    </tr>\n",
              "    <tr>\n",
              "      <th>2</th>\n",
              "      <td>1.319159</td>\n",
              "      <td>-0.128571</td>\n",
              "      <td>0.672837</td>\n",
              "    </tr>\n",
              "    <tr>\n",
              "      <th>3</th>\n",
              "      <td>-0.561525</td>\n",
              "      <td>-0.128571</td>\n",
              "      <td>0.140337</td>\n",
              "    </tr>\n",
              "    <tr>\n",
              "      <th>4</th>\n",
              "      <td>0.875028</td>\n",
              "      <td>0.070562</td>\n",
              "      <td>-0.264363</td>\n",
              "    </tr>\n",
              "  </tbody>\n",
              "</table>\n",
              "</div>"
            ],
            "text/plain": [
              "   gps_height  amount_tsh  population\n",
              "0    1.939784   -0.128571    0.291567\n",
              "1    1.322052   -0.128571    0.246837\n",
              "2    1.319159   -0.128571    0.672837\n",
              "3   -0.561525   -0.128571    0.140337\n",
              "4    0.875028    0.070562   -0.264363"
            ]
          },
          "metadata": {},
          "execution_count": 1035
        }
      ]
    },
    {
      "cell_type": "code",
      "metadata": {
        "colab": {
          "base_uri": "https://localhost:8080/",
          "height": 372
        },
        "id": "o63vnSKa0_7l",
        "outputId": "623df552-d95e-4741-c9ae-241be6565225"
      },
      "source": [
        "test.head()"
      ],
      "execution_count": 1036,
      "outputs": [
        {
          "output_type": "execute_result",
          "data": {
            "text/html": [
              "<div>\n",
              "<style scoped>\n",
              "    .dataframe tbody tr th:only-of-type {\n",
              "        vertical-align: middle;\n",
              "    }\n",
              "\n",
              "    .dataframe tbody tr th {\n",
              "        vertical-align: top;\n",
              "    }\n",
              "\n",
              "    .dataframe thead th {\n",
              "        text-align: right;\n",
              "    }\n",
              "</style>\n",
              "<table border=\"1\" class=\"dataframe\">\n",
              "  <thead>\n",
              "    <tr style=\"text-align: right;\">\n",
              "      <th></th>\n",
              "      <th>amount_tsh</th>\n",
              "      <th>days_since_recorded</th>\n",
              "      <th>funder</th>\n",
              "      <th>gps_height</th>\n",
              "      <th>installer</th>\n",
              "      <th>basin</th>\n",
              "      <th>population</th>\n",
              "      <th>public_meeting</th>\n",
              "      <th>scheme_management</th>\n",
              "      <th>permit</th>\n",
              "      <th>construction_year</th>\n",
              "      <th>extraction_type_class</th>\n",
              "      <th>payment_type</th>\n",
              "      <th>water_quality</th>\n",
              "      <th>quantity</th>\n",
              "      <th>source_type</th>\n",
              "      <th>source_class</th>\n",
              "      <th>waterpoint_type</th>\n",
              "      <th>waterpoint_type_group</th>\n",
              "    </tr>\n",
              "  </thead>\n",
              "  <tbody>\n",
              "    <tr>\n",
              "      <th>0</th>\n",
              "      <td>-0.128571</td>\n",
              "      <td>302</td>\n",
              "      <td>other</td>\n",
              "      <td>1.939784</td>\n",
              "      <td>other</td>\n",
              "      <td>Internal</td>\n",
              "      <td>0.291567</td>\n",
              "      <td>True</td>\n",
              "      <td>other</td>\n",
              "      <td>True</td>\n",
              "      <td>10s</td>\n",
              "      <td>other</td>\n",
              "      <td>never pay</td>\n",
              "      <td>soft</td>\n",
              "      <td>seasonal</td>\n",
              "      <td>rainwater harvesting</td>\n",
              "      <td>surface</td>\n",
              "      <td>other</td>\n",
              "      <td>other</td>\n",
              "    </tr>\n",
              "    <tr>\n",
              "      <th>1</th>\n",
              "      <td>-0.128571</td>\n",
              "      <td>302</td>\n",
              "      <td>gov</td>\n",
              "      <td>1.322052</td>\n",
              "      <td>dwe</td>\n",
              "      <td>Pangani</td>\n",
              "      <td>0.246837</td>\n",
              "      <td>True</td>\n",
              "      <td>vwc</td>\n",
              "      <td>True</td>\n",
              "      <td>00s</td>\n",
              "      <td>gravity</td>\n",
              "      <td>never pay</td>\n",
              "      <td>soft</td>\n",
              "      <td>insufficient</td>\n",
              "      <td>spring</td>\n",
              "      <td>groundwater</td>\n",
              "      <td>communal standpipe</td>\n",
              "      <td>communal standpipe</td>\n",
              "    </tr>\n",
              "    <tr>\n",
              "      <th>2</th>\n",
              "      <td>-0.128571</td>\n",
              "      <td>305</td>\n",
              "      <td>other</td>\n",
              "      <td>1.319159</td>\n",
              "      <td>other</td>\n",
              "      <td>Internal</td>\n",
              "      <td>0.672837</td>\n",
              "      <td>True</td>\n",
              "      <td>vwc</td>\n",
              "      <td>Unknown</td>\n",
              "      <td>10s</td>\n",
              "      <td>other</td>\n",
              "      <td>never pay</td>\n",
              "      <td>soft</td>\n",
              "      <td>insufficient</td>\n",
              "      <td>rainwater harvesting</td>\n",
              "      <td>surface</td>\n",
              "      <td>other</td>\n",
              "      <td>other</td>\n",
              "    </tr>\n",
              "    <tr>\n",
              "      <th>3</th>\n",
              "      <td>-0.128571</td>\n",
              "      <td>315</td>\n",
              "      <td>other</td>\n",
              "      <td>-0.561525</td>\n",
              "      <td>other</td>\n",
              "      <td>Ruvuma / Southern Coast</td>\n",
              "      <td>0.140337</td>\n",
              "      <td>Unknown</td>\n",
              "      <td>vwc</td>\n",
              "      <td>True</td>\n",
              "      <td>80s</td>\n",
              "      <td>other</td>\n",
              "      <td>unknown</td>\n",
              "      <td>soft</td>\n",
              "      <td>dry</td>\n",
              "      <td>shallow well</td>\n",
              "      <td>groundwater</td>\n",
              "      <td>other</td>\n",
              "      <td>other</td>\n",
              "    </tr>\n",
              "    <tr>\n",
              "      <th>4</th>\n",
              "      <td>0.070562</td>\n",
              "      <td>251</td>\n",
              "      <td>other</td>\n",
              "      <td>0.875028</td>\n",
              "      <td>other</td>\n",
              "      <td>Ruvuma / Southern Coast</td>\n",
              "      <td>-0.264363</td>\n",
              "      <td>Unknown</td>\n",
              "      <td>wtr_brd</td>\n",
              "      <td>True</td>\n",
              "      <td>00s</td>\n",
              "      <td>gravity</td>\n",
              "      <td>monthly</td>\n",
              "      <td>soft</td>\n",
              "      <td>enough</td>\n",
              "      <td>spring</td>\n",
              "      <td>groundwater</td>\n",
              "      <td>communal standpipe</td>\n",
              "      <td>communal standpipe</td>\n",
              "    </tr>\n",
              "  </tbody>\n",
              "</table>\n",
              "</div>"
            ],
            "text/plain": [
              "   amount_tsh  days_since_recorded  ...     waterpoint_type  waterpoint_type_group\n",
              "0   -0.128571                  302  ...               other                  other\n",
              "1   -0.128571                  302  ...  communal standpipe     communal standpipe\n",
              "2   -0.128571                  305  ...               other                  other\n",
              "3   -0.128571                  315  ...               other                  other\n",
              "4    0.070562                  251  ...  communal standpipe     communal standpipe\n",
              "\n",
              "[5 rows x 19 columns]"
            ]
          },
          "metadata": {},
          "execution_count": 1036
        }
      ]
    },
    {
      "cell_type": "code",
      "metadata": {
        "colab": {
          "base_uri": "https://localhost:8080/"
        },
        "id": "peZBPZaNqTUB",
        "outputId": "b85cefe5-c9a8-4a93-89ce-4e27c02975d8"
      },
      "source": [
        "testid.head()"
      ],
      "execution_count": 1037,
      "outputs": [
        {
          "output_type": "execute_result",
          "data": {
            "text/plain": [
              "0    50785\n",
              "1    51630\n",
              "2    17168\n",
              "3    45559\n",
              "4    49871\n",
              "Name: id, dtype: int64"
            ]
          },
          "metadata": {},
          "execution_count": 1037
        }
      ]
    },
    {
      "cell_type": "code",
      "metadata": {
        "colab": {
          "base_uri": "https://localhost:8080/"
        },
        "id": "Dl-DXmvhMc--",
        "outputId": "7f9d4000-88a5-4eaa-adfc-d84ef51d790f"
      },
      "source": [
        "df.shape"
      ],
      "execution_count": 1038,
      "outputs": [
        {
          "output_type": "execute_result",
          "data": {
            "text/plain": [
              "(59400, 20)"
            ]
          },
          "metadata": {},
          "execution_count": 1038
        }
      ]
    },
    {
      "cell_type": "code",
      "metadata": {
        "colab": {
          "base_uri": "https://localhost:8080/"
        },
        "id": "2amR9obsMdMW",
        "outputId": "e677d859-e604-4b8d-ca8e-ad62c30ee0c6"
      },
      "source": [
        "test.shape"
      ],
      "execution_count": 1039,
      "outputs": [
        {
          "output_type": "execute_result",
          "data": {
            "text/plain": [
              "(14850, 19)"
            ]
          },
          "metadata": {},
          "execution_count": 1039
        }
      ]
    },
    {
      "cell_type": "code",
      "metadata": {
        "id": "T8cppuTfMgMo"
      },
      "source": [
        "# The train and test sets match up. We can save the test set now.\n",
        "\n",
        "test.to_csv('pump_test_for_models.csv', index=False)"
      ],
      "execution_count": 1040,
      "outputs": []
    },
    {
      "cell_type": "markdown",
      "metadata": {
        "id": "abnuSUNVNSeY"
      },
      "source": [
        "**Run the model**"
      ]
    },
    {
      "cell_type": "code",
      "metadata": {
        "id": "Ddh2ZNb-NXoA"
      },
      "source": [
        "import pandas as pd\n",
        "import numpy as np\n",
        "from sklearn.model_selection import train_test_split\n",
        "from sklearn.svm import LinearSVC\n",
        "from sklearn.model_selection import GridSearchCV\n",
        "from sklearn.pipeline import Pipeline\n",
        "from sklearn.preprocessing import StandardScaler\n",
        "\n",
        "train = r\"pump_train_for_models.csv\"\n",
        "test = r\"pump_test_for_models.csv\"\n",
        "\n",
        "train = pd.read_csv(train)\n",
        "test = pd.read_csv(test)"
      ],
      "execution_count": 1041,
      "outputs": []
    },
    {
      "cell_type": "code",
      "metadata": {
        "colab": {
          "base_uri": "https://localhost:8080/"
        },
        "id": "tSIRxC6RNtqm",
        "outputId": "6d6d9b4b-bf7f-4c0c-ec7a-a482763ae672"
      },
      "source": [
        "train.info()"
      ],
      "execution_count": 1042,
      "outputs": [
        {
          "output_type": "stream",
          "name": "stdout",
          "text": [
            "<class 'pandas.core.frame.DataFrame'>\n",
            "RangeIndex: 59400 entries, 0 to 59399\n",
            "Data columns (total 20 columns):\n",
            " #   Column                 Non-Null Count  Dtype  \n",
            "---  ------                 --------------  -----  \n",
            " 0   amount_tsh             59400 non-null  float64\n",
            " 1   days_since_recorded    59400 non-null  int64  \n",
            " 2   funder                 59400 non-null  object \n",
            " 3   gps_height             59400 non-null  float64\n",
            " 4   installer              59400 non-null  object \n",
            " 5   basin                  59400 non-null  object \n",
            " 6   population             59400 non-null  float64\n",
            " 7   public_meeting         59400 non-null  object \n",
            " 8   scheme_management      59400 non-null  object \n",
            " 9   permit                 59400 non-null  object \n",
            " 10  construction_year      59400 non-null  object \n",
            " 11  extraction_type_class  59400 non-null  object \n",
            " 12  payment_type           59400 non-null  object \n",
            " 13  water_quality          59400 non-null  object \n",
            " 14  quantity               59400 non-null  object \n",
            " 15  source_type            59400 non-null  object \n",
            " 16  source_class           59400 non-null  object \n",
            " 17  waterpoint_type        59400 non-null  object \n",
            " 18  waterpoint_type_group  59400 non-null  object \n",
            " 19  status_group           59400 non-null  object \n",
            "dtypes: float64(3), int64(1), object(16)\n",
            "memory usage: 9.1+ MB\n"
          ]
        }
      ]
    },
    {
      "cell_type": "code",
      "metadata": {
        "colab": {
          "base_uri": "https://localhost:8080/"
        },
        "id": "hqu-xbZsRp5-",
        "outputId": "872baa12-337a-4007-ca54-e1a8d851eb3a"
      },
      "source": [
        "test.info()"
      ],
      "execution_count": 1043,
      "outputs": [
        {
          "output_type": "stream",
          "name": "stdout",
          "text": [
            "<class 'pandas.core.frame.DataFrame'>\n",
            "RangeIndex: 14850 entries, 0 to 14849\n",
            "Data columns (total 19 columns):\n",
            " #   Column                 Non-Null Count  Dtype  \n",
            "---  ------                 --------------  -----  \n",
            " 0   amount_tsh             14850 non-null  float64\n",
            " 1   days_since_recorded    14850 non-null  int64  \n",
            " 2   funder                 14850 non-null  object \n",
            " 3   gps_height             14850 non-null  float64\n",
            " 4   installer              14850 non-null  object \n",
            " 5   basin                  14850 non-null  object \n",
            " 6   population             14850 non-null  float64\n",
            " 7   public_meeting         14850 non-null  object \n",
            " 8   scheme_management      14850 non-null  object \n",
            " 9   permit                 14850 non-null  object \n",
            " 10  construction_year      14850 non-null  object \n",
            " 11  extraction_type_class  14850 non-null  object \n",
            " 12  payment_type           14850 non-null  object \n",
            " 13  water_quality          14850 non-null  object \n",
            " 14  quantity               14850 non-null  object \n",
            " 15  source_type            14850 non-null  object \n",
            " 16  source_class           14850 non-null  object \n",
            " 17  waterpoint_type        14850 non-null  object \n",
            " 18  waterpoint_type_group  14850 non-null  object \n",
            "dtypes: float64(3), int64(1), object(15)\n",
            "memory usage: 2.2+ MB\n"
          ]
        }
      ]
    },
    {
      "cell_type": "code",
      "metadata": {
        "id": "UL3S-0VQNttJ"
      },
      "source": [
        "#get one hot encodings of string columns\n",
        "\n",
        "dummy_cols = ['funder', 'installer', 'basin', 'public_meeting', 'scheme_management', 'permit',\n",
        "              'construction_year', 'extraction_type_class', 'payment_type', 'water_quality',\n",
        "              'quantity', 'source_type', 'source_class', 'waterpoint_type',\n",
        "             'waterpoint_type_group']\n",
        "\n",
        "train = pd.get_dummies(train, columns = dummy_cols)\n",
        "\n",
        "train = train.sample(frac=1).reset_index(drop=True)"
      ],
      "execution_count": 1044,
      "outputs": []
    },
    {
      "cell_type": "code",
      "metadata": {
        "colab": {
          "base_uri": "https://localhost:8080/"
        },
        "id": "l171A0WUNtv1",
        "outputId": "72d50600-1e4c-4257-c4a1-20f7d99ee0c9"
      },
      "source": [
        "train.shape"
      ],
      "execution_count": 1045,
      "outputs": [
        {
          "output_type": "execute_result",
          "data": {
            "text/plain": [
              "(59400, 95)"
            ]
          },
          "metadata": {},
          "execution_count": 1045
        }
      ]
    },
    {
      "cell_type": "code",
      "metadata": {
        "id": "d9DAzU9zNtyV"
      },
      "source": [
        "test = pd.get_dummies(test, columns = dummy_cols)"
      ],
      "execution_count": 1046,
      "outputs": []
    },
    {
      "cell_type": "code",
      "metadata": {
        "colab": {
          "base_uri": "https://localhost:8080/",
          "height": 284
        },
        "id": "Du2IkDs-Nt1e",
        "outputId": "06749815-d711-45d4-9903-ce585daf6419"
      },
      "source": [
        "test.shape\n",
        "test.head()"
      ],
      "execution_count": 1047,
      "outputs": [
        {
          "output_type": "execute_result",
          "data": {
            "text/html": [
              "<div>\n",
              "<style scoped>\n",
              "    .dataframe tbody tr th:only-of-type {\n",
              "        vertical-align: middle;\n",
              "    }\n",
              "\n",
              "    .dataframe tbody tr th {\n",
              "        vertical-align: top;\n",
              "    }\n",
              "\n",
              "    .dataframe thead th {\n",
              "        text-align: right;\n",
              "    }\n",
              "</style>\n",
              "<table border=\"1\" class=\"dataframe\">\n",
              "  <thead>\n",
              "    <tr style=\"text-align: right;\">\n",
              "      <th></th>\n",
              "      <th>amount_tsh</th>\n",
              "      <th>days_since_recorded</th>\n",
              "      <th>gps_height</th>\n",
              "      <th>population</th>\n",
              "      <th>funder_danida</th>\n",
              "      <th>funder_gov</th>\n",
              "      <th>funder_hesawa</th>\n",
              "      <th>funder_other</th>\n",
              "      <th>funder_rwssp</th>\n",
              "      <th>funder_world_bank</th>\n",
              "      <th>installer_commu</th>\n",
              "      <th>installer_danida</th>\n",
              "      <th>installer_dwe</th>\n",
              "      <th>installer_gov</th>\n",
              "      <th>installer_other</th>\n",
              "      <th>installer_rwe</th>\n",
              "      <th>basin_Internal</th>\n",
              "      <th>basin_Lake Nyasa</th>\n",
              "      <th>basin_Lake Rukwa</th>\n",
              "      <th>basin_Lake Tanganyika</th>\n",
              "      <th>basin_Lake Victoria</th>\n",
              "      <th>basin_Pangani</th>\n",
              "      <th>basin_Rufiji</th>\n",
              "      <th>basin_Ruvuma / Southern Coast</th>\n",
              "      <th>basin_Wami / Ruvu</th>\n",
              "      <th>public_meeting_False</th>\n",
              "      <th>public_meeting_True</th>\n",
              "      <th>public_meeting_Unknown</th>\n",
              "      <th>scheme_management_other</th>\n",
              "      <th>scheme_management_vwc</th>\n",
              "      <th>scheme_management_wtr_auth</th>\n",
              "      <th>scheme_management_wtr_brd</th>\n",
              "      <th>scheme_management_wua</th>\n",
              "      <th>scheme_management_wug</th>\n",
              "      <th>permit_False</th>\n",
              "      <th>permit_True</th>\n",
              "      <th>permit_Unknown</th>\n",
              "      <th>construction_year_00s</th>\n",
              "      <th>construction_year_10s</th>\n",
              "      <th>construction_year_60s</th>\n",
              "      <th>...</th>\n",
              "      <th>payment_type_on failure</th>\n",
              "      <th>payment_type_other</th>\n",
              "      <th>payment_type_per bucket</th>\n",
              "      <th>payment_type_unknown</th>\n",
              "      <th>water_quality_coloured</th>\n",
              "      <th>water_quality_fluoride</th>\n",
              "      <th>water_quality_fluoride abandoned</th>\n",
              "      <th>water_quality_milky</th>\n",
              "      <th>water_quality_salty</th>\n",
              "      <th>water_quality_salty abandoned</th>\n",
              "      <th>water_quality_soft</th>\n",
              "      <th>water_quality_unknown</th>\n",
              "      <th>quantity_dry</th>\n",
              "      <th>quantity_enough</th>\n",
              "      <th>quantity_insufficient</th>\n",
              "      <th>quantity_seasonal</th>\n",
              "      <th>quantity_unknown</th>\n",
              "      <th>source_type_borehole</th>\n",
              "      <th>source_type_dam</th>\n",
              "      <th>source_type_other</th>\n",
              "      <th>source_type_rainwater harvesting</th>\n",
              "      <th>source_type_river/lake</th>\n",
              "      <th>source_type_shallow well</th>\n",
              "      <th>source_type_spring</th>\n",
              "      <th>source_class_groundwater</th>\n",
              "      <th>source_class_surface</th>\n",
              "      <th>source_class_unknown</th>\n",
              "      <th>waterpoint_type_cattle trough</th>\n",
              "      <th>waterpoint_type_communal standpipe</th>\n",
              "      <th>waterpoint_type_communal standpipe multiple</th>\n",
              "      <th>waterpoint_type_dam</th>\n",
              "      <th>waterpoint_type_hand pump</th>\n",
              "      <th>waterpoint_type_improved spring</th>\n",
              "      <th>waterpoint_type_other</th>\n",
              "      <th>waterpoint_type_group_cattle trough</th>\n",
              "      <th>waterpoint_type_group_communal standpipe</th>\n",
              "      <th>waterpoint_type_group_dam</th>\n",
              "      <th>waterpoint_type_group_hand pump</th>\n",
              "      <th>waterpoint_type_group_improved spring</th>\n",
              "      <th>waterpoint_type_group_other</th>\n",
              "    </tr>\n",
              "  </thead>\n",
              "  <tbody>\n",
              "    <tr>\n",
              "      <th>0</th>\n",
              "      <td>-0.128571</td>\n",
              "      <td>302</td>\n",
              "      <td>1.939784</td>\n",
              "      <td>0.291567</td>\n",
              "      <td>0</td>\n",
              "      <td>0</td>\n",
              "      <td>0</td>\n",
              "      <td>1</td>\n",
              "      <td>0</td>\n",
              "      <td>0</td>\n",
              "      <td>0</td>\n",
              "      <td>0</td>\n",
              "      <td>0</td>\n",
              "      <td>0</td>\n",
              "      <td>1</td>\n",
              "      <td>0</td>\n",
              "      <td>1</td>\n",
              "      <td>0</td>\n",
              "      <td>0</td>\n",
              "      <td>0</td>\n",
              "      <td>0</td>\n",
              "      <td>0</td>\n",
              "      <td>0</td>\n",
              "      <td>0</td>\n",
              "      <td>0</td>\n",
              "      <td>0</td>\n",
              "      <td>1</td>\n",
              "      <td>0</td>\n",
              "      <td>1</td>\n",
              "      <td>0</td>\n",
              "      <td>0</td>\n",
              "      <td>0</td>\n",
              "      <td>0</td>\n",
              "      <td>0</td>\n",
              "      <td>0</td>\n",
              "      <td>1</td>\n",
              "      <td>0</td>\n",
              "      <td>0</td>\n",
              "      <td>1</td>\n",
              "      <td>0</td>\n",
              "      <td>...</td>\n",
              "      <td>0</td>\n",
              "      <td>0</td>\n",
              "      <td>0</td>\n",
              "      <td>0</td>\n",
              "      <td>0</td>\n",
              "      <td>0</td>\n",
              "      <td>0</td>\n",
              "      <td>0</td>\n",
              "      <td>0</td>\n",
              "      <td>0</td>\n",
              "      <td>1</td>\n",
              "      <td>0</td>\n",
              "      <td>0</td>\n",
              "      <td>0</td>\n",
              "      <td>0</td>\n",
              "      <td>1</td>\n",
              "      <td>0</td>\n",
              "      <td>0</td>\n",
              "      <td>0</td>\n",
              "      <td>0</td>\n",
              "      <td>1</td>\n",
              "      <td>0</td>\n",
              "      <td>0</td>\n",
              "      <td>0</td>\n",
              "      <td>0</td>\n",
              "      <td>1</td>\n",
              "      <td>0</td>\n",
              "      <td>0</td>\n",
              "      <td>0</td>\n",
              "      <td>0</td>\n",
              "      <td>0</td>\n",
              "      <td>0</td>\n",
              "      <td>0</td>\n",
              "      <td>1</td>\n",
              "      <td>0</td>\n",
              "      <td>0</td>\n",
              "      <td>0</td>\n",
              "      <td>0</td>\n",
              "      <td>0</td>\n",
              "      <td>1</td>\n",
              "    </tr>\n",
              "    <tr>\n",
              "      <th>1</th>\n",
              "      <td>-0.128571</td>\n",
              "      <td>302</td>\n",
              "      <td>1.322052</td>\n",
              "      <td>0.246837</td>\n",
              "      <td>0</td>\n",
              "      <td>1</td>\n",
              "      <td>0</td>\n",
              "      <td>0</td>\n",
              "      <td>0</td>\n",
              "      <td>0</td>\n",
              "      <td>0</td>\n",
              "      <td>0</td>\n",
              "      <td>1</td>\n",
              "      <td>0</td>\n",
              "      <td>0</td>\n",
              "      <td>0</td>\n",
              "      <td>0</td>\n",
              "      <td>0</td>\n",
              "      <td>0</td>\n",
              "      <td>0</td>\n",
              "      <td>0</td>\n",
              "      <td>1</td>\n",
              "      <td>0</td>\n",
              "      <td>0</td>\n",
              "      <td>0</td>\n",
              "      <td>0</td>\n",
              "      <td>1</td>\n",
              "      <td>0</td>\n",
              "      <td>0</td>\n",
              "      <td>1</td>\n",
              "      <td>0</td>\n",
              "      <td>0</td>\n",
              "      <td>0</td>\n",
              "      <td>0</td>\n",
              "      <td>0</td>\n",
              "      <td>1</td>\n",
              "      <td>0</td>\n",
              "      <td>1</td>\n",
              "      <td>0</td>\n",
              "      <td>0</td>\n",
              "      <td>...</td>\n",
              "      <td>0</td>\n",
              "      <td>0</td>\n",
              "      <td>0</td>\n",
              "      <td>0</td>\n",
              "      <td>0</td>\n",
              "      <td>0</td>\n",
              "      <td>0</td>\n",
              "      <td>0</td>\n",
              "      <td>0</td>\n",
              "      <td>0</td>\n",
              "      <td>1</td>\n",
              "      <td>0</td>\n",
              "      <td>0</td>\n",
              "      <td>0</td>\n",
              "      <td>1</td>\n",
              "      <td>0</td>\n",
              "      <td>0</td>\n",
              "      <td>0</td>\n",
              "      <td>0</td>\n",
              "      <td>0</td>\n",
              "      <td>0</td>\n",
              "      <td>0</td>\n",
              "      <td>0</td>\n",
              "      <td>1</td>\n",
              "      <td>1</td>\n",
              "      <td>0</td>\n",
              "      <td>0</td>\n",
              "      <td>0</td>\n",
              "      <td>1</td>\n",
              "      <td>0</td>\n",
              "      <td>0</td>\n",
              "      <td>0</td>\n",
              "      <td>0</td>\n",
              "      <td>0</td>\n",
              "      <td>0</td>\n",
              "      <td>1</td>\n",
              "      <td>0</td>\n",
              "      <td>0</td>\n",
              "      <td>0</td>\n",
              "      <td>0</td>\n",
              "    </tr>\n",
              "    <tr>\n",
              "      <th>2</th>\n",
              "      <td>-0.128571</td>\n",
              "      <td>305</td>\n",
              "      <td>1.319159</td>\n",
              "      <td>0.672837</td>\n",
              "      <td>0</td>\n",
              "      <td>0</td>\n",
              "      <td>0</td>\n",
              "      <td>1</td>\n",
              "      <td>0</td>\n",
              "      <td>0</td>\n",
              "      <td>0</td>\n",
              "      <td>0</td>\n",
              "      <td>0</td>\n",
              "      <td>0</td>\n",
              "      <td>1</td>\n",
              "      <td>0</td>\n",
              "      <td>1</td>\n",
              "      <td>0</td>\n",
              "      <td>0</td>\n",
              "      <td>0</td>\n",
              "      <td>0</td>\n",
              "      <td>0</td>\n",
              "      <td>0</td>\n",
              "      <td>0</td>\n",
              "      <td>0</td>\n",
              "      <td>0</td>\n",
              "      <td>1</td>\n",
              "      <td>0</td>\n",
              "      <td>0</td>\n",
              "      <td>1</td>\n",
              "      <td>0</td>\n",
              "      <td>0</td>\n",
              "      <td>0</td>\n",
              "      <td>0</td>\n",
              "      <td>0</td>\n",
              "      <td>0</td>\n",
              "      <td>1</td>\n",
              "      <td>0</td>\n",
              "      <td>1</td>\n",
              "      <td>0</td>\n",
              "      <td>...</td>\n",
              "      <td>0</td>\n",
              "      <td>0</td>\n",
              "      <td>0</td>\n",
              "      <td>0</td>\n",
              "      <td>0</td>\n",
              "      <td>0</td>\n",
              "      <td>0</td>\n",
              "      <td>0</td>\n",
              "      <td>0</td>\n",
              "      <td>0</td>\n",
              "      <td>1</td>\n",
              "      <td>0</td>\n",
              "      <td>0</td>\n",
              "      <td>0</td>\n",
              "      <td>1</td>\n",
              "      <td>0</td>\n",
              "      <td>0</td>\n",
              "      <td>0</td>\n",
              "      <td>0</td>\n",
              "      <td>0</td>\n",
              "      <td>1</td>\n",
              "      <td>0</td>\n",
              "      <td>0</td>\n",
              "      <td>0</td>\n",
              "      <td>0</td>\n",
              "      <td>1</td>\n",
              "      <td>0</td>\n",
              "      <td>0</td>\n",
              "      <td>0</td>\n",
              "      <td>0</td>\n",
              "      <td>0</td>\n",
              "      <td>0</td>\n",
              "      <td>0</td>\n",
              "      <td>1</td>\n",
              "      <td>0</td>\n",
              "      <td>0</td>\n",
              "      <td>0</td>\n",
              "      <td>0</td>\n",
              "      <td>0</td>\n",
              "      <td>1</td>\n",
              "    </tr>\n",
              "    <tr>\n",
              "      <th>3</th>\n",
              "      <td>-0.128571</td>\n",
              "      <td>315</td>\n",
              "      <td>-0.561525</td>\n",
              "      <td>0.140337</td>\n",
              "      <td>0</td>\n",
              "      <td>0</td>\n",
              "      <td>0</td>\n",
              "      <td>1</td>\n",
              "      <td>0</td>\n",
              "      <td>0</td>\n",
              "      <td>0</td>\n",
              "      <td>0</td>\n",
              "      <td>0</td>\n",
              "      <td>0</td>\n",
              "      <td>1</td>\n",
              "      <td>0</td>\n",
              "      <td>0</td>\n",
              "      <td>0</td>\n",
              "      <td>0</td>\n",
              "      <td>0</td>\n",
              "      <td>0</td>\n",
              "      <td>0</td>\n",
              "      <td>0</td>\n",
              "      <td>1</td>\n",
              "      <td>0</td>\n",
              "      <td>0</td>\n",
              "      <td>0</td>\n",
              "      <td>1</td>\n",
              "      <td>0</td>\n",
              "      <td>1</td>\n",
              "      <td>0</td>\n",
              "      <td>0</td>\n",
              "      <td>0</td>\n",
              "      <td>0</td>\n",
              "      <td>0</td>\n",
              "      <td>1</td>\n",
              "      <td>0</td>\n",
              "      <td>0</td>\n",
              "      <td>0</td>\n",
              "      <td>0</td>\n",
              "      <td>...</td>\n",
              "      <td>0</td>\n",
              "      <td>0</td>\n",
              "      <td>0</td>\n",
              "      <td>1</td>\n",
              "      <td>0</td>\n",
              "      <td>0</td>\n",
              "      <td>0</td>\n",
              "      <td>0</td>\n",
              "      <td>0</td>\n",
              "      <td>0</td>\n",
              "      <td>1</td>\n",
              "      <td>0</td>\n",
              "      <td>1</td>\n",
              "      <td>0</td>\n",
              "      <td>0</td>\n",
              "      <td>0</td>\n",
              "      <td>0</td>\n",
              "      <td>0</td>\n",
              "      <td>0</td>\n",
              "      <td>0</td>\n",
              "      <td>0</td>\n",
              "      <td>0</td>\n",
              "      <td>1</td>\n",
              "      <td>0</td>\n",
              "      <td>1</td>\n",
              "      <td>0</td>\n",
              "      <td>0</td>\n",
              "      <td>0</td>\n",
              "      <td>0</td>\n",
              "      <td>0</td>\n",
              "      <td>0</td>\n",
              "      <td>0</td>\n",
              "      <td>0</td>\n",
              "      <td>1</td>\n",
              "      <td>0</td>\n",
              "      <td>0</td>\n",
              "      <td>0</td>\n",
              "      <td>0</td>\n",
              "      <td>0</td>\n",
              "      <td>1</td>\n",
              "    </tr>\n",
              "    <tr>\n",
              "      <th>4</th>\n",
              "      <td>0.070562</td>\n",
              "      <td>251</td>\n",
              "      <td>0.875028</td>\n",
              "      <td>-0.264363</td>\n",
              "      <td>0</td>\n",
              "      <td>0</td>\n",
              "      <td>0</td>\n",
              "      <td>1</td>\n",
              "      <td>0</td>\n",
              "      <td>0</td>\n",
              "      <td>0</td>\n",
              "      <td>0</td>\n",
              "      <td>0</td>\n",
              "      <td>0</td>\n",
              "      <td>1</td>\n",
              "      <td>0</td>\n",
              "      <td>0</td>\n",
              "      <td>0</td>\n",
              "      <td>0</td>\n",
              "      <td>0</td>\n",
              "      <td>0</td>\n",
              "      <td>0</td>\n",
              "      <td>0</td>\n",
              "      <td>1</td>\n",
              "      <td>0</td>\n",
              "      <td>0</td>\n",
              "      <td>0</td>\n",
              "      <td>1</td>\n",
              "      <td>0</td>\n",
              "      <td>0</td>\n",
              "      <td>0</td>\n",
              "      <td>1</td>\n",
              "      <td>0</td>\n",
              "      <td>0</td>\n",
              "      <td>0</td>\n",
              "      <td>1</td>\n",
              "      <td>0</td>\n",
              "      <td>1</td>\n",
              "      <td>0</td>\n",
              "      <td>0</td>\n",
              "      <td>...</td>\n",
              "      <td>0</td>\n",
              "      <td>0</td>\n",
              "      <td>0</td>\n",
              "      <td>0</td>\n",
              "      <td>0</td>\n",
              "      <td>0</td>\n",
              "      <td>0</td>\n",
              "      <td>0</td>\n",
              "      <td>0</td>\n",
              "      <td>0</td>\n",
              "      <td>1</td>\n",
              "      <td>0</td>\n",
              "      <td>0</td>\n",
              "      <td>1</td>\n",
              "      <td>0</td>\n",
              "      <td>0</td>\n",
              "      <td>0</td>\n",
              "      <td>0</td>\n",
              "      <td>0</td>\n",
              "      <td>0</td>\n",
              "      <td>0</td>\n",
              "      <td>0</td>\n",
              "      <td>0</td>\n",
              "      <td>1</td>\n",
              "      <td>1</td>\n",
              "      <td>0</td>\n",
              "      <td>0</td>\n",
              "      <td>0</td>\n",
              "      <td>1</td>\n",
              "      <td>0</td>\n",
              "      <td>0</td>\n",
              "      <td>0</td>\n",
              "      <td>0</td>\n",
              "      <td>0</td>\n",
              "      <td>0</td>\n",
              "      <td>1</td>\n",
              "      <td>0</td>\n",
              "      <td>0</td>\n",
              "      <td>0</td>\n",
              "      <td>0</td>\n",
              "    </tr>\n",
              "  </tbody>\n",
              "</table>\n",
              "<p>5 rows × 94 columns</p>\n",
              "</div>"
            ],
            "text/plain": [
              "   amount_tsh  ...  waterpoint_type_group_other\n",
              "0   -0.128571  ...                            1\n",
              "1   -0.128571  ...                            0\n",
              "2   -0.128571  ...                            1\n",
              "3   -0.128571  ...                            1\n",
              "4    0.070562  ...                            0\n",
              "\n",
              "[5 rows x 94 columns]"
            ]
          },
          "metadata": {},
          "execution_count": 1047
        }
      ]
    },
    {
      "cell_type": "code",
      "metadata": {
        "id": "R1Y4tAY3Nt2_"
      },
      "source": [
        "target = train.status_group\n",
        "features = train.drop('status_group', axis=1)\n",
        "\n",
        "X_train, X_val, y_train, y_val = train_test_split(features, target, train_size=0.8)"
      ],
      "execution_count": 1048,
      "outputs": []
    },
    {
      "cell_type": "code",
      "metadata": {
        "colab": {
          "base_uri": "https://localhost:8080/",
          "height": 284
        },
        "id": "b5XLfCYODaJc",
        "outputId": "0219ef17-e2b4-41a3-eea4-777da2e57246"
      },
      "source": [
        "X_train.head()"
      ],
      "execution_count": 1049,
      "outputs": [
        {
          "output_type": "execute_result",
          "data": {
            "text/html": [
              "<div>\n",
              "<style scoped>\n",
              "    .dataframe tbody tr th:only-of-type {\n",
              "        vertical-align: middle;\n",
              "    }\n",
              "\n",
              "    .dataframe tbody tr th {\n",
              "        vertical-align: top;\n",
              "    }\n",
              "\n",
              "    .dataframe thead th {\n",
              "        text-align: right;\n",
              "    }\n",
              "</style>\n",
              "<table border=\"1\" class=\"dataframe\">\n",
              "  <thead>\n",
              "    <tr style=\"text-align: right;\">\n",
              "      <th></th>\n",
              "      <th>amount_tsh</th>\n",
              "      <th>days_since_recorded</th>\n",
              "      <th>gps_height</th>\n",
              "      <th>population</th>\n",
              "      <th>funder_danida</th>\n",
              "      <th>funder_gov</th>\n",
              "      <th>funder_hesawa</th>\n",
              "      <th>funder_other</th>\n",
              "      <th>funder_rwssp</th>\n",
              "      <th>funder_world_bank</th>\n",
              "      <th>installer_commu</th>\n",
              "      <th>installer_danida</th>\n",
              "      <th>installer_dwe</th>\n",
              "      <th>installer_gov</th>\n",
              "      <th>installer_other</th>\n",
              "      <th>installer_rwe</th>\n",
              "      <th>basin_Internal</th>\n",
              "      <th>basin_Lake Nyasa</th>\n",
              "      <th>basin_Lake Rukwa</th>\n",
              "      <th>basin_Lake Tanganyika</th>\n",
              "      <th>basin_Lake Victoria</th>\n",
              "      <th>basin_Pangani</th>\n",
              "      <th>basin_Rufiji</th>\n",
              "      <th>basin_Ruvuma / Southern Coast</th>\n",
              "      <th>basin_Wami / Ruvu</th>\n",
              "      <th>public_meeting_False</th>\n",
              "      <th>public_meeting_True</th>\n",
              "      <th>public_meeting_Unknown</th>\n",
              "      <th>scheme_management_other</th>\n",
              "      <th>scheme_management_vwc</th>\n",
              "      <th>scheme_management_wtr_auth</th>\n",
              "      <th>scheme_management_wtr_brd</th>\n",
              "      <th>scheme_management_wua</th>\n",
              "      <th>scheme_management_wug</th>\n",
              "      <th>permit_False</th>\n",
              "      <th>permit_True</th>\n",
              "      <th>permit_Unknown</th>\n",
              "      <th>construction_year_00s</th>\n",
              "      <th>construction_year_10s</th>\n",
              "      <th>construction_year_60s</th>\n",
              "      <th>...</th>\n",
              "      <th>payment_type_on failure</th>\n",
              "      <th>payment_type_other</th>\n",
              "      <th>payment_type_per bucket</th>\n",
              "      <th>payment_type_unknown</th>\n",
              "      <th>water_quality_coloured</th>\n",
              "      <th>water_quality_fluoride</th>\n",
              "      <th>water_quality_fluoride abandoned</th>\n",
              "      <th>water_quality_milky</th>\n",
              "      <th>water_quality_salty</th>\n",
              "      <th>water_quality_salty abandoned</th>\n",
              "      <th>water_quality_soft</th>\n",
              "      <th>water_quality_unknown</th>\n",
              "      <th>quantity_dry</th>\n",
              "      <th>quantity_enough</th>\n",
              "      <th>quantity_insufficient</th>\n",
              "      <th>quantity_seasonal</th>\n",
              "      <th>quantity_unknown</th>\n",
              "      <th>source_type_borehole</th>\n",
              "      <th>source_type_dam</th>\n",
              "      <th>source_type_other</th>\n",
              "      <th>source_type_rainwater harvesting</th>\n",
              "      <th>source_type_river/lake</th>\n",
              "      <th>source_type_shallow well</th>\n",
              "      <th>source_type_spring</th>\n",
              "      <th>source_class_groundwater</th>\n",
              "      <th>source_class_surface</th>\n",
              "      <th>source_class_unknown</th>\n",
              "      <th>waterpoint_type_cattle trough</th>\n",
              "      <th>waterpoint_type_communal standpipe</th>\n",
              "      <th>waterpoint_type_communal standpipe multiple</th>\n",
              "      <th>waterpoint_type_dam</th>\n",
              "      <th>waterpoint_type_hand pump</th>\n",
              "      <th>waterpoint_type_improved spring</th>\n",
              "      <th>waterpoint_type_other</th>\n",
              "      <th>waterpoint_type_group_cattle trough</th>\n",
              "      <th>waterpoint_type_group_communal standpipe</th>\n",
              "      <th>waterpoint_type_group_dam</th>\n",
              "      <th>waterpoint_type_group_hand pump</th>\n",
              "      <th>waterpoint_type_group_improved spring</th>\n",
              "      <th>waterpoint_type_group_other</th>\n",
              "    </tr>\n",
              "  </thead>\n",
              "  <tbody>\n",
              "    <tr>\n",
              "      <th>54088</th>\n",
              "      <td>-0.105970</td>\n",
              "      <td>278</td>\n",
              "      <td>1.267767</td>\n",
              "      <td>-0.379466</td>\n",
              "      <td>0</td>\n",
              "      <td>0</td>\n",
              "      <td>0</td>\n",
              "      <td>1</td>\n",
              "      <td>0</td>\n",
              "      <td>0</td>\n",
              "      <td>0</td>\n",
              "      <td>0</td>\n",
              "      <td>0</td>\n",
              "      <td>0</td>\n",
              "      <td>1</td>\n",
              "      <td>0</td>\n",
              "      <td>1</td>\n",
              "      <td>0</td>\n",
              "      <td>0</td>\n",
              "      <td>0</td>\n",
              "      <td>0</td>\n",
              "      <td>0</td>\n",
              "      <td>0</td>\n",
              "      <td>0</td>\n",
              "      <td>0</td>\n",
              "      <td>0</td>\n",
              "      <td>1</td>\n",
              "      <td>0</td>\n",
              "      <td>0</td>\n",
              "      <td>1</td>\n",
              "      <td>0</td>\n",
              "      <td>0</td>\n",
              "      <td>0</td>\n",
              "      <td>0</td>\n",
              "      <td>0</td>\n",
              "      <td>0</td>\n",
              "      <td>1</td>\n",
              "      <td>0</td>\n",
              "      <td>0</td>\n",
              "      <td>0</td>\n",
              "      <td>...</td>\n",
              "      <td>0</td>\n",
              "      <td>0</td>\n",
              "      <td>0</td>\n",
              "      <td>1</td>\n",
              "      <td>0</td>\n",
              "      <td>0</td>\n",
              "      <td>0</td>\n",
              "      <td>0</td>\n",
              "      <td>0</td>\n",
              "      <td>0</td>\n",
              "      <td>0</td>\n",
              "      <td>1</td>\n",
              "      <td>0</td>\n",
              "      <td>0</td>\n",
              "      <td>0</td>\n",
              "      <td>0</td>\n",
              "      <td>1</td>\n",
              "      <td>0</td>\n",
              "      <td>0</td>\n",
              "      <td>0</td>\n",
              "      <td>0</td>\n",
              "      <td>0</td>\n",
              "      <td>1</td>\n",
              "      <td>0</td>\n",
              "      <td>1</td>\n",
              "      <td>0</td>\n",
              "      <td>0</td>\n",
              "      <td>0</td>\n",
              "      <td>0</td>\n",
              "      <td>0</td>\n",
              "      <td>0</td>\n",
              "      <td>0</td>\n",
              "      <td>0</td>\n",
              "      <td>1</td>\n",
              "      <td>0</td>\n",
              "      <td>0</td>\n",
              "      <td>0</td>\n",
              "      <td>0</td>\n",
              "      <td>0</td>\n",
              "      <td>1</td>\n",
              "    </tr>\n",
              "    <tr>\n",
              "      <th>3582</th>\n",
              "      <td>-0.105970</td>\n",
              "      <td>994</td>\n",
              "      <td>-0.964200</td>\n",
              "      <td>-0.169488</td>\n",
              "      <td>0</td>\n",
              "      <td>0</td>\n",
              "      <td>0</td>\n",
              "      <td>1</td>\n",
              "      <td>0</td>\n",
              "      <td>0</td>\n",
              "      <td>0</td>\n",
              "      <td>0</td>\n",
              "      <td>1</td>\n",
              "      <td>0</td>\n",
              "      <td>0</td>\n",
              "      <td>0</td>\n",
              "      <td>0</td>\n",
              "      <td>0</td>\n",
              "      <td>0</td>\n",
              "      <td>0</td>\n",
              "      <td>0</td>\n",
              "      <td>1</td>\n",
              "      <td>0</td>\n",
              "      <td>0</td>\n",
              "      <td>0</td>\n",
              "      <td>0</td>\n",
              "      <td>1</td>\n",
              "      <td>0</td>\n",
              "      <td>0</td>\n",
              "      <td>1</td>\n",
              "      <td>0</td>\n",
              "      <td>0</td>\n",
              "      <td>0</td>\n",
              "      <td>0</td>\n",
              "      <td>0</td>\n",
              "      <td>1</td>\n",
              "      <td>0</td>\n",
              "      <td>1</td>\n",
              "      <td>0</td>\n",
              "      <td>0</td>\n",
              "      <td>...</td>\n",
              "      <td>0</td>\n",
              "      <td>0</td>\n",
              "      <td>0</td>\n",
              "      <td>0</td>\n",
              "      <td>0</td>\n",
              "      <td>0</td>\n",
              "      <td>0</td>\n",
              "      <td>0</td>\n",
              "      <td>0</td>\n",
              "      <td>0</td>\n",
              "      <td>1</td>\n",
              "      <td>0</td>\n",
              "      <td>0</td>\n",
              "      <td>0</td>\n",
              "      <td>1</td>\n",
              "      <td>0</td>\n",
              "      <td>0</td>\n",
              "      <td>0</td>\n",
              "      <td>0</td>\n",
              "      <td>1</td>\n",
              "      <td>0</td>\n",
              "      <td>0</td>\n",
              "      <td>0</td>\n",
              "      <td>0</td>\n",
              "      <td>0</td>\n",
              "      <td>0</td>\n",
              "      <td>1</td>\n",
              "      <td>0</td>\n",
              "      <td>1</td>\n",
              "      <td>0</td>\n",
              "      <td>0</td>\n",
              "      <td>0</td>\n",
              "      <td>0</td>\n",
              "      <td>0</td>\n",
              "      <td>0</td>\n",
              "      <td>1</td>\n",
              "      <td>0</td>\n",
              "      <td>0</td>\n",
              "      <td>0</td>\n",
              "      <td>0</td>\n",
              "    </tr>\n",
              "    <tr>\n",
              "      <th>26457</th>\n",
              "      <td>-0.022569</td>\n",
              "      <td>287</td>\n",
              "      <td>0.810409</td>\n",
              "      <td>1.209155</td>\n",
              "      <td>0</td>\n",
              "      <td>1</td>\n",
              "      <td>0</td>\n",
              "      <td>0</td>\n",
              "      <td>0</td>\n",
              "      <td>0</td>\n",
              "      <td>0</td>\n",
              "      <td>0</td>\n",
              "      <td>0</td>\n",
              "      <td>1</td>\n",
              "      <td>0</td>\n",
              "      <td>0</td>\n",
              "      <td>0</td>\n",
              "      <td>0</td>\n",
              "      <td>0</td>\n",
              "      <td>1</td>\n",
              "      <td>0</td>\n",
              "      <td>0</td>\n",
              "      <td>0</td>\n",
              "      <td>0</td>\n",
              "      <td>0</td>\n",
              "      <td>0</td>\n",
              "      <td>1</td>\n",
              "      <td>0</td>\n",
              "      <td>0</td>\n",
              "      <td>0</td>\n",
              "      <td>1</td>\n",
              "      <td>0</td>\n",
              "      <td>0</td>\n",
              "      <td>0</td>\n",
              "      <td>0</td>\n",
              "      <td>1</td>\n",
              "      <td>0</td>\n",
              "      <td>1</td>\n",
              "      <td>0</td>\n",
              "      <td>0</td>\n",
              "      <td>...</td>\n",
              "      <td>0</td>\n",
              "      <td>0</td>\n",
              "      <td>0</td>\n",
              "      <td>0</td>\n",
              "      <td>0</td>\n",
              "      <td>0</td>\n",
              "      <td>0</td>\n",
              "      <td>0</td>\n",
              "      <td>0</td>\n",
              "      <td>0</td>\n",
              "      <td>1</td>\n",
              "      <td>0</td>\n",
              "      <td>0</td>\n",
              "      <td>1</td>\n",
              "      <td>0</td>\n",
              "      <td>0</td>\n",
              "      <td>0</td>\n",
              "      <td>0</td>\n",
              "      <td>0</td>\n",
              "      <td>0</td>\n",
              "      <td>0</td>\n",
              "      <td>1</td>\n",
              "      <td>0</td>\n",
              "      <td>0</td>\n",
              "      <td>0</td>\n",
              "      <td>1</td>\n",
              "      <td>0</td>\n",
              "      <td>0</td>\n",
              "      <td>1</td>\n",
              "      <td>0</td>\n",
              "      <td>0</td>\n",
              "      <td>0</td>\n",
              "      <td>0</td>\n",
              "      <td>0</td>\n",
              "      <td>0</td>\n",
              "      <td>1</td>\n",
              "      <td>0</td>\n",
              "      <td>0</td>\n",
              "      <td>0</td>\n",
              "      <td>0</td>\n",
              "    </tr>\n",
              "    <tr>\n",
              "      <th>50869</th>\n",
              "      <td>-0.105970</td>\n",
              "      <td>873</td>\n",
              "      <td>-0.964200</td>\n",
              "      <td>-0.381587</td>\n",
              "      <td>0</td>\n",
              "      <td>0</td>\n",
              "      <td>1</td>\n",
              "      <td>0</td>\n",
              "      <td>0</td>\n",
              "      <td>0</td>\n",
              "      <td>0</td>\n",
              "      <td>0</td>\n",
              "      <td>0</td>\n",
              "      <td>0</td>\n",
              "      <td>1</td>\n",
              "      <td>0</td>\n",
              "      <td>0</td>\n",
              "      <td>0</td>\n",
              "      <td>0</td>\n",
              "      <td>0</td>\n",
              "      <td>1</td>\n",
              "      <td>0</td>\n",
              "      <td>0</td>\n",
              "      <td>0</td>\n",
              "      <td>0</td>\n",
              "      <td>0</td>\n",
              "      <td>1</td>\n",
              "      <td>0</td>\n",
              "      <td>0</td>\n",
              "      <td>0</td>\n",
              "      <td>0</td>\n",
              "      <td>0</td>\n",
              "      <td>1</td>\n",
              "      <td>0</td>\n",
              "      <td>0</td>\n",
              "      <td>1</td>\n",
              "      <td>0</td>\n",
              "      <td>0</td>\n",
              "      <td>0</td>\n",
              "      <td>0</td>\n",
              "      <td>...</td>\n",
              "      <td>0</td>\n",
              "      <td>0</td>\n",
              "      <td>0</td>\n",
              "      <td>0</td>\n",
              "      <td>0</td>\n",
              "      <td>0</td>\n",
              "      <td>0</td>\n",
              "      <td>0</td>\n",
              "      <td>0</td>\n",
              "      <td>0</td>\n",
              "      <td>1</td>\n",
              "      <td>0</td>\n",
              "      <td>1</td>\n",
              "      <td>0</td>\n",
              "      <td>0</td>\n",
              "      <td>0</td>\n",
              "      <td>0</td>\n",
              "      <td>0</td>\n",
              "      <td>0</td>\n",
              "      <td>0</td>\n",
              "      <td>0</td>\n",
              "      <td>0</td>\n",
              "      <td>1</td>\n",
              "      <td>0</td>\n",
              "      <td>1</td>\n",
              "      <td>0</td>\n",
              "      <td>0</td>\n",
              "      <td>0</td>\n",
              "      <td>0</td>\n",
              "      <td>0</td>\n",
              "      <td>0</td>\n",
              "      <td>1</td>\n",
              "      <td>0</td>\n",
              "      <td>0</td>\n",
              "      <td>0</td>\n",
              "      <td>0</td>\n",
              "      <td>0</td>\n",
              "      <td>1</td>\n",
              "      <td>0</td>\n",
              "      <td>0</td>\n",
              "    </tr>\n",
              "    <tr>\n",
              "      <th>44722</th>\n",
              "      <td>-0.089290</td>\n",
              "      <td>276</td>\n",
              "      <td>1.194186</td>\n",
              "      <td>0.148660</td>\n",
              "      <td>0</td>\n",
              "      <td>0</td>\n",
              "      <td>0</td>\n",
              "      <td>1</td>\n",
              "      <td>0</td>\n",
              "      <td>0</td>\n",
              "      <td>0</td>\n",
              "      <td>0</td>\n",
              "      <td>0</td>\n",
              "      <td>0</td>\n",
              "      <td>1</td>\n",
              "      <td>0</td>\n",
              "      <td>1</td>\n",
              "      <td>0</td>\n",
              "      <td>0</td>\n",
              "      <td>0</td>\n",
              "      <td>0</td>\n",
              "      <td>0</td>\n",
              "      <td>0</td>\n",
              "      <td>0</td>\n",
              "      <td>0</td>\n",
              "      <td>0</td>\n",
              "      <td>1</td>\n",
              "      <td>0</td>\n",
              "      <td>0</td>\n",
              "      <td>1</td>\n",
              "      <td>0</td>\n",
              "      <td>0</td>\n",
              "      <td>0</td>\n",
              "      <td>0</td>\n",
              "      <td>0</td>\n",
              "      <td>0</td>\n",
              "      <td>1</td>\n",
              "      <td>1</td>\n",
              "      <td>0</td>\n",
              "      <td>0</td>\n",
              "      <td>...</td>\n",
              "      <td>0</td>\n",
              "      <td>0</td>\n",
              "      <td>1</td>\n",
              "      <td>0</td>\n",
              "      <td>0</td>\n",
              "      <td>0</td>\n",
              "      <td>0</td>\n",
              "      <td>0</td>\n",
              "      <td>0</td>\n",
              "      <td>0</td>\n",
              "      <td>1</td>\n",
              "      <td>0</td>\n",
              "      <td>0</td>\n",
              "      <td>0</td>\n",
              "      <td>1</td>\n",
              "      <td>0</td>\n",
              "      <td>0</td>\n",
              "      <td>1</td>\n",
              "      <td>0</td>\n",
              "      <td>0</td>\n",
              "      <td>0</td>\n",
              "      <td>0</td>\n",
              "      <td>0</td>\n",
              "      <td>0</td>\n",
              "      <td>1</td>\n",
              "      <td>0</td>\n",
              "      <td>0</td>\n",
              "      <td>0</td>\n",
              "      <td>1</td>\n",
              "      <td>0</td>\n",
              "      <td>0</td>\n",
              "      <td>0</td>\n",
              "      <td>0</td>\n",
              "      <td>0</td>\n",
              "      <td>0</td>\n",
              "      <td>1</td>\n",
              "      <td>0</td>\n",
              "      <td>0</td>\n",
              "      <td>0</td>\n",
              "      <td>0</td>\n",
              "    </tr>\n",
              "  </tbody>\n",
              "</table>\n",
              "<p>5 rows × 94 columns</p>\n",
              "</div>"
            ],
            "text/plain": [
              "       amount_tsh  ...  waterpoint_type_group_other\n",
              "54088   -0.105970  ...                            1\n",
              "3582    -0.105970  ...                            0\n",
              "26457   -0.022569  ...                            0\n",
              "50869   -0.105970  ...                            0\n",
              "44722   -0.089290  ...                            0\n",
              "\n",
              "[5 rows x 94 columns]"
            ]
          },
          "metadata": {},
          "execution_count": 1049
        }
      ]
    },
    {
      "cell_type": "code",
      "metadata": {
        "colab": {
          "base_uri": "https://localhost:8080/",
          "height": 284
        },
        "id": "BQy4QrM6o5oq",
        "outputId": "ae27fc1d-e79d-4fd2-9e82-53286cc4bf0b"
      },
      "source": [
        "display(train.head())"
      ],
      "execution_count": 1050,
      "outputs": [
        {
          "output_type": "display_data",
          "data": {
            "text/html": [
              "<div>\n",
              "<style scoped>\n",
              "    .dataframe tbody tr th:only-of-type {\n",
              "        vertical-align: middle;\n",
              "    }\n",
              "\n",
              "    .dataframe tbody tr th {\n",
              "        vertical-align: top;\n",
              "    }\n",
              "\n",
              "    .dataframe thead th {\n",
              "        text-align: right;\n",
              "    }\n",
              "</style>\n",
              "<table border=\"1\" class=\"dataframe\">\n",
              "  <thead>\n",
              "    <tr style=\"text-align: right;\">\n",
              "      <th></th>\n",
              "      <th>amount_tsh</th>\n",
              "      <th>days_since_recorded</th>\n",
              "      <th>gps_height</th>\n",
              "      <th>population</th>\n",
              "      <th>status_group</th>\n",
              "      <th>funder_danida</th>\n",
              "      <th>funder_gov</th>\n",
              "      <th>funder_hesawa</th>\n",
              "      <th>funder_other</th>\n",
              "      <th>funder_rwssp</th>\n",
              "      <th>funder_world_bank</th>\n",
              "      <th>installer_commu</th>\n",
              "      <th>installer_danida</th>\n",
              "      <th>installer_dwe</th>\n",
              "      <th>installer_gov</th>\n",
              "      <th>installer_other</th>\n",
              "      <th>installer_rwe</th>\n",
              "      <th>basin_Internal</th>\n",
              "      <th>basin_Lake Nyasa</th>\n",
              "      <th>basin_Lake Rukwa</th>\n",
              "      <th>basin_Lake Tanganyika</th>\n",
              "      <th>basin_Lake Victoria</th>\n",
              "      <th>basin_Pangani</th>\n",
              "      <th>basin_Rufiji</th>\n",
              "      <th>basin_Ruvuma / Southern Coast</th>\n",
              "      <th>basin_Wami / Ruvu</th>\n",
              "      <th>public_meeting_False</th>\n",
              "      <th>public_meeting_True</th>\n",
              "      <th>public_meeting_Unknown</th>\n",
              "      <th>scheme_management_other</th>\n",
              "      <th>scheme_management_vwc</th>\n",
              "      <th>scheme_management_wtr_auth</th>\n",
              "      <th>scheme_management_wtr_brd</th>\n",
              "      <th>scheme_management_wua</th>\n",
              "      <th>scheme_management_wug</th>\n",
              "      <th>permit_False</th>\n",
              "      <th>permit_True</th>\n",
              "      <th>permit_Unknown</th>\n",
              "      <th>construction_year_00s</th>\n",
              "      <th>construction_year_10s</th>\n",
              "      <th>...</th>\n",
              "      <th>payment_type_on failure</th>\n",
              "      <th>payment_type_other</th>\n",
              "      <th>payment_type_per bucket</th>\n",
              "      <th>payment_type_unknown</th>\n",
              "      <th>water_quality_coloured</th>\n",
              "      <th>water_quality_fluoride</th>\n",
              "      <th>water_quality_fluoride abandoned</th>\n",
              "      <th>water_quality_milky</th>\n",
              "      <th>water_quality_salty</th>\n",
              "      <th>water_quality_salty abandoned</th>\n",
              "      <th>water_quality_soft</th>\n",
              "      <th>water_quality_unknown</th>\n",
              "      <th>quantity_dry</th>\n",
              "      <th>quantity_enough</th>\n",
              "      <th>quantity_insufficient</th>\n",
              "      <th>quantity_seasonal</th>\n",
              "      <th>quantity_unknown</th>\n",
              "      <th>source_type_borehole</th>\n",
              "      <th>source_type_dam</th>\n",
              "      <th>source_type_other</th>\n",
              "      <th>source_type_rainwater harvesting</th>\n",
              "      <th>source_type_river/lake</th>\n",
              "      <th>source_type_shallow well</th>\n",
              "      <th>source_type_spring</th>\n",
              "      <th>source_class_groundwater</th>\n",
              "      <th>source_class_surface</th>\n",
              "      <th>source_class_unknown</th>\n",
              "      <th>waterpoint_type_cattle trough</th>\n",
              "      <th>waterpoint_type_communal standpipe</th>\n",
              "      <th>waterpoint_type_communal standpipe multiple</th>\n",
              "      <th>waterpoint_type_dam</th>\n",
              "      <th>waterpoint_type_hand pump</th>\n",
              "      <th>waterpoint_type_improved spring</th>\n",
              "      <th>waterpoint_type_other</th>\n",
              "      <th>waterpoint_type_group_cattle trough</th>\n",
              "      <th>waterpoint_type_group_communal standpipe</th>\n",
              "      <th>waterpoint_type_group_dam</th>\n",
              "      <th>waterpoint_type_group_hand pump</th>\n",
              "      <th>waterpoint_type_group_improved spring</th>\n",
              "      <th>waterpoint_type_group_other</th>\n",
              "    </tr>\n",
              "  </thead>\n",
              "  <tbody>\n",
              "    <tr>\n",
              "      <th>0</th>\n",
              "      <td>-0.105970</td>\n",
              "      <td>865</td>\n",
              "      <td>-0.964200</td>\n",
              "      <td>-0.381587</td>\n",
              "      <td>non functional</td>\n",
              "      <td>0</td>\n",
              "      <td>0</td>\n",
              "      <td>0</td>\n",
              "      <td>1</td>\n",
              "      <td>0</td>\n",
              "      <td>0</td>\n",
              "      <td>0</td>\n",
              "      <td>0</td>\n",
              "      <td>1</td>\n",
              "      <td>0</td>\n",
              "      <td>0</td>\n",
              "      <td>0</td>\n",
              "      <td>0</td>\n",
              "      <td>0</td>\n",
              "      <td>0</td>\n",
              "      <td>1</td>\n",
              "      <td>0</td>\n",
              "      <td>0</td>\n",
              "      <td>0</td>\n",
              "      <td>0</td>\n",
              "      <td>0</td>\n",
              "      <td>0</td>\n",
              "      <td>1</td>\n",
              "      <td>0</td>\n",
              "      <td>0</td>\n",
              "      <td>1</td>\n",
              "      <td>0</td>\n",
              "      <td>0</td>\n",
              "      <td>0</td>\n",
              "      <td>0</td>\n",
              "      <td>0</td>\n",
              "      <td>1</td>\n",
              "      <td>0</td>\n",
              "      <td>0</td>\n",
              "      <td>0</td>\n",
              "      <td>...</td>\n",
              "      <td>0</td>\n",
              "      <td>0</td>\n",
              "      <td>0</td>\n",
              "      <td>0</td>\n",
              "      <td>0</td>\n",
              "      <td>0</td>\n",
              "      <td>0</td>\n",
              "      <td>0</td>\n",
              "      <td>0</td>\n",
              "      <td>0</td>\n",
              "      <td>1</td>\n",
              "      <td>0</td>\n",
              "      <td>0</td>\n",
              "      <td>1</td>\n",
              "      <td>0</td>\n",
              "      <td>0</td>\n",
              "      <td>0</td>\n",
              "      <td>1</td>\n",
              "      <td>0</td>\n",
              "      <td>0</td>\n",
              "      <td>0</td>\n",
              "      <td>0</td>\n",
              "      <td>0</td>\n",
              "      <td>0</td>\n",
              "      <td>1</td>\n",
              "      <td>0</td>\n",
              "      <td>0</td>\n",
              "      <td>0</td>\n",
              "      <td>1</td>\n",
              "      <td>0</td>\n",
              "      <td>0</td>\n",
              "      <td>0</td>\n",
              "      <td>0</td>\n",
              "      <td>0</td>\n",
              "      <td>0</td>\n",
              "      <td>1</td>\n",
              "      <td>0</td>\n",
              "      <td>0</td>\n",
              "      <td>0</td>\n",
              "      <td>0</td>\n",
              "    </tr>\n",
              "    <tr>\n",
              "      <th>1</th>\n",
              "      <td>-0.105970</td>\n",
              "      <td>277</td>\n",
              "      <td>-0.964200</td>\n",
              "      <td>-0.381587</td>\n",
              "      <td>functional</td>\n",
              "      <td>0</td>\n",
              "      <td>1</td>\n",
              "      <td>0</td>\n",
              "      <td>0</td>\n",
              "      <td>0</td>\n",
              "      <td>0</td>\n",
              "      <td>0</td>\n",
              "      <td>0</td>\n",
              "      <td>0</td>\n",
              "      <td>0</td>\n",
              "      <td>0</td>\n",
              "      <td>1</td>\n",
              "      <td>0</td>\n",
              "      <td>0</td>\n",
              "      <td>0</td>\n",
              "      <td>0</td>\n",
              "      <td>1</td>\n",
              "      <td>0</td>\n",
              "      <td>0</td>\n",
              "      <td>0</td>\n",
              "      <td>0</td>\n",
              "      <td>0</td>\n",
              "      <td>1</td>\n",
              "      <td>0</td>\n",
              "      <td>0</td>\n",
              "      <td>0</td>\n",
              "      <td>0</td>\n",
              "      <td>0</td>\n",
              "      <td>0</td>\n",
              "      <td>1</td>\n",
              "      <td>1</td>\n",
              "      <td>0</td>\n",
              "      <td>0</td>\n",
              "      <td>0</td>\n",
              "      <td>0</td>\n",
              "      <td>...</td>\n",
              "      <td>0</td>\n",
              "      <td>0</td>\n",
              "      <td>0</td>\n",
              "      <td>0</td>\n",
              "      <td>0</td>\n",
              "      <td>0</td>\n",
              "      <td>0</td>\n",
              "      <td>0</td>\n",
              "      <td>0</td>\n",
              "      <td>0</td>\n",
              "      <td>1</td>\n",
              "      <td>0</td>\n",
              "      <td>0</td>\n",
              "      <td>1</td>\n",
              "      <td>0</td>\n",
              "      <td>0</td>\n",
              "      <td>0</td>\n",
              "      <td>0</td>\n",
              "      <td>0</td>\n",
              "      <td>0</td>\n",
              "      <td>0</td>\n",
              "      <td>0</td>\n",
              "      <td>1</td>\n",
              "      <td>0</td>\n",
              "      <td>1</td>\n",
              "      <td>0</td>\n",
              "      <td>0</td>\n",
              "      <td>0</td>\n",
              "      <td>0</td>\n",
              "      <td>0</td>\n",
              "      <td>0</td>\n",
              "      <td>1</td>\n",
              "      <td>0</td>\n",
              "      <td>0</td>\n",
              "      <td>0</td>\n",
              "      <td>0</td>\n",
              "      <td>0</td>\n",
              "      <td>1</td>\n",
              "      <td>0</td>\n",
              "      <td>0</td>\n",
              "    </tr>\n",
              "    <tr>\n",
              "      <th>2</th>\n",
              "      <td>-0.105970</td>\n",
              "      <td>298</td>\n",
              "      <td>0.933044</td>\n",
              "      <td>0.466808</td>\n",
              "      <td>non functional</td>\n",
              "      <td>0</td>\n",
              "      <td>0</td>\n",
              "      <td>0</td>\n",
              "      <td>1</td>\n",
              "      <td>0</td>\n",
              "      <td>0</td>\n",
              "      <td>0</td>\n",
              "      <td>0</td>\n",
              "      <td>0</td>\n",
              "      <td>0</td>\n",
              "      <td>1</td>\n",
              "      <td>0</td>\n",
              "      <td>0</td>\n",
              "      <td>0</td>\n",
              "      <td>0</td>\n",
              "      <td>0</td>\n",
              "      <td>0</td>\n",
              "      <td>0</td>\n",
              "      <td>1</td>\n",
              "      <td>0</td>\n",
              "      <td>0</td>\n",
              "      <td>0</td>\n",
              "      <td>1</td>\n",
              "      <td>0</td>\n",
              "      <td>0</td>\n",
              "      <td>1</td>\n",
              "      <td>0</td>\n",
              "      <td>0</td>\n",
              "      <td>0</td>\n",
              "      <td>0</td>\n",
              "      <td>1</td>\n",
              "      <td>0</td>\n",
              "      <td>0</td>\n",
              "      <td>0</td>\n",
              "      <td>0</td>\n",
              "      <td>...</td>\n",
              "      <td>0</td>\n",
              "      <td>0</td>\n",
              "      <td>0</td>\n",
              "      <td>0</td>\n",
              "      <td>0</td>\n",
              "      <td>0</td>\n",
              "      <td>0</td>\n",
              "      <td>0</td>\n",
              "      <td>1</td>\n",
              "      <td>0</td>\n",
              "      <td>0</td>\n",
              "      <td>0</td>\n",
              "      <td>0</td>\n",
              "      <td>1</td>\n",
              "      <td>0</td>\n",
              "      <td>0</td>\n",
              "      <td>0</td>\n",
              "      <td>1</td>\n",
              "      <td>0</td>\n",
              "      <td>0</td>\n",
              "      <td>0</td>\n",
              "      <td>0</td>\n",
              "      <td>0</td>\n",
              "      <td>0</td>\n",
              "      <td>1</td>\n",
              "      <td>0</td>\n",
              "      <td>0</td>\n",
              "      <td>0</td>\n",
              "      <td>0</td>\n",
              "      <td>1</td>\n",
              "      <td>0</td>\n",
              "      <td>0</td>\n",
              "      <td>0</td>\n",
              "      <td>0</td>\n",
              "      <td>0</td>\n",
              "      <td>1</td>\n",
              "      <td>0</td>\n",
              "      <td>0</td>\n",
              "      <td>0</td>\n",
              "      <td>0</td>\n",
              "    </tr>\n",
              "    <tr>\n",
              "      <th>3</th>\n",
              "      <td>-0.072609</td>\n",
              "      <td>283</td>\n",
              "      <td>-0.117293</td>\n",
              "      <td>0.148660</td>\n",
              "      <td>functional</td>\n",
              "      <td>0</td>\n",
              "      <td>0</td>\n",
              "      <td>0</td>\n",
              "      <td>1</td>\n",
              "      <td>0</td>\n",
              "      <td>0</td>\n",
              "      <td>0</td>\n",
              "      <td>0</td>\n",
              "      <td>1</td>\n",
              "      <td>0</td>\n",
              "      <td>0</td>\n",
              "      <td>0</td>\n",
              "      <td>0</td>\n",
              "      <td>0</td>\n",
              "      <td>0</td>\n",
              "      <td>0</td>\n",
              "      <td>0</td>\n",
              "      <td>0</td>\n",
              "      <td>0</td>\n",
              "      <td>1</td>\n",
              "      <td>0</td>\n",
              "      <td>0</td>\n",
              "      <td>1</td>\n",
              "      <td>0</td>\n",
              "      <td>0</td>\n",
              "      <td>0</td>\n",
              "      <td>0</td>\n",
              "      <td>0</td>\n",
              "      <td>0</td>\n",
              "      <td>1</td>\n",
              "      <td>1</td>\n",
              "      <td>0</td>\n",
              "      <td>0</td>\n",
              "      <td>0</td>\n",
              "      <td>0</td>\n",
              "      <td>...</td>\n",
              "      <td>0</td>\n",
              "      <td>0</td>\n",
              "      <td>1</td>\n",
              "      <td>0</td>\n",
              "      <td>0</td>\n",
              "      <td>0</td>\n",
              "      <td>0</td>\n",
              "      <td>0</td>\n",
              "      <td>0</td>\n",
              "      <td>0</td>\n",
              "      <td>1</td>\n",
              "      <td>0</td>\n",
              "      <td>0</td>\n",
              "      <td>1</td>\n",
              "      <td>0</td>\n",
              "      <td>0</td>\n",
              "      <td>0</td>\n",
              "      <td>0</td>\n",
              "      <td>0</td>\n",
              "      <td>0</td>\n",
              "      <td>0</td>\n",
              "      <td>0</td>\n",
              "      <td>1</td>\n",
              "      <td>0</td>\n",
              "      <td>1</td>\n",
              "      <td>0</td>\n",
              "      <td>0</td>\n",
              "      <td>0</td>\n",
              "      <td>0</td>\n",
              "      <td>0</td>\n",
              "      <td>0</td>\n",
              "      <td>1</td>\n",
              "      <td>0</td>\n",
              "      <td>0</td>\n",
              "      <td>0</td>\n",
              "      <td>0</td>\n",
              "      <td>0</td>\n",
              "      <td>1</td>\n",
              "      <td>0</td>\n",
              "      <td>0</td>\n",
              "    </tr>\n",
              "    <tr>\n",
              "      <th>4</th>\n",
              "      <td>-0.105970</td>\n",
              "      <td>309</td>\n",
              "      <td>1.375975</td>\n",
              "      <td>-0.379466</td>\n",
              "      <td>non functional</td>\n",
              "      <td>0</td>\n",
              "      <td>0</td>\n",
              "      <td>0</td>\n",
              "      <td>1</td>\n",
              "      <td>0</td>\n",
              "      <td>0</td>\n",
              "      <td>0</td>\n",
              "      <td>0</td>\n",
              "      <td>0</td>\n",
              "      <td>0</td>\n",
              "      <td>1</td>\n",
              "      <td>0</td>\n",
              "      <td>1</td>\n",
              "      <td>0</td>\n",
              "      <td>0</td>\n",
              "      <td>0</td>\n",
              "      <td>0</td>\n",
              "      <td>0</td>\n",
              "      <td>0</td>\n",
              "      <td>0</td>\n",
              "      <td>0</td>\n",
              "      <td>0</td>\n",
              "      <td>1</td>\n",
              "      <td>0</td>\n",
              "      <td>0</td>\n",
              "      <td>1</td>\n",
              "      <td>0</td>\n",
              "      <td>0</td>\n",
              "      <td>0</td>\n",
              "      <td>0</td>\n",
              "      <td>0</td>\n",
              "      <td>0</td>\n",
              "      <td>1</td>\n",
              "      <td>0</td>\n",
              "      <td>0</td>\n",
              "      <td>...</td>\n",
              "      <td>0</td>\n",
              "      <td>0</td>\n",
              "      <td>0</td>\n",
              "      <td>1</td>\n",
              "      <td>0</td>\n",
              "      <td>0</td>\n",
              "      <td>0</td>\n",
              "      <td>0</td>\n",
              "      <td>0</td>\n",
              "      <td>0</td>\n",
              "      <td>0</td>\n",
              "      <td>1</td>\n",
              "      <td>1</td>\n",
              "      <td>0</td>\n",
              "      <td>0</td>\n",
              "      <td>0</td>\n",
              "      <td>0</td>\n",
              "      <td>0</td>\n",
              "      <td>0</td>\n",
              "      <td>0</td>\n",
              "      <td>0</td>\n",
              "      <td>0</td>\n",
              "      <td>1</td>\n",
              "      <td>0</td>\n",
              "      <td>1</td>\n",
              "      <td>0</td>\n",
              "      <td>0</td>\n",
              "      <td>0</td>\n",
              "      <td>0</td>\n",
              "      <td>0</td>\n",
              "      <td>0</td>\n",
              "      <td>0</td>\n",
              "      <td>0</td>\n",
              "      <td>1</td>\n",
              "      <td>0</td>\n",
              "      <td>0</td>\n",
              "      <td>0</td>\n",
              "      <td>0</td>\n",
              "      <td>0</td>\n",
              "      <td>1</td>\n",
              "    </tr>\n",
              "  </tbody>\n",
              "</table>\n",
              "<p>5 rows × 95 columns</p>\n",
              "</div>"
            ],
            "text/plain": [
              "   amount_tsh  ...  waterpoint_type_group_other\n",
              "0   -0.105970  ...                            0\n",
              "1   -0.105970  ...                            0\n",
              "2   -0.105970  ...                            0\n",
              "3   -0.072609  ...                            0\n",
              "4   -0.105970  ...                            1\n",
              "\n",
              "[5 rows x 95 columns]"
            ]
          },
          "metadata": {}
        }
      ]
    },
    {
      "cell_type": "code",
      "metadata": {
        "id": "HRmR1MuwDiyz"
      },
      "source": [
        "'''from sklearn.decomposition import PCA\n",
        "\n",
        "pca = PCA(n_components=50)\n",
        "X_train = pca.fit_transform(X_train)'''"
      ],
      "execution_count": 951,
      "outputs": []
    },
    {
      "cell_type": "code",
      "metadata": {
        "colab": {
          "base_uri": "https://localhost:8080/"
        },
        "id": "--NjAAw_D3MF",
        "outputId": "dada8d94-0da2-46f9-beaf-fc09c02344f2"
      },
      "source": [
        "X_train.shape"
      ],
      "execution_count": 1051,
      "outputs": [
        {
          "output_type": "execute_result",
          "data": {
            "text/plain": [
              "(47520, 94)"
            ]
          },
          "metadata": {},
          "execution_count": 1051
        }
      ]
    },
    {
      "cell_type": "markdown",
      "metadata": {
        "id": "OfXVK0JwUWbJ"
      },
      "source": [
        "TEST model----------------------"
      ]
    },
    {
      "cell_type": "code",
      "metadata": {
        "id": "UX0HRQgfUVRV"
      },
      "source": [
        "from sklearn.ensemble import RandomForestClassifier\n",
        "modelRFC = RandomForestClassifier(n_estimators=1000)"
      ],
      "execution_count": 1052,
      "outputs": []
    },
    {
      "cell_type": "code",
      "metadata": {
        "id": "aowaQ0ohUfkc"
      },
      "source": [
        "from xgboost import XGBClassifier\n",
        "modelXGB = XGBClassifier(objective = 'multi:softmax', booster = 'gbtree', nrounds = 'min.error.idx', \n",
        "                      num_class = 4, maximize = False, eval_metric = 'merror', eta = .2,\n",
        "                      max_depth = 14, colsample_bytree = .4)"
      ],
      "execution_count": 1053,
      "outputs": []
    },
    {
      "cell_type": "code",
      "metadata": {
        "colab": {
          "base_uri": "https://localhost:8080/"
        },
        "id": "1qG23VlQUwLx",
        "outputId": "cc92f8b0-d938-48f8-8d2d-603b67adbe3f"
      },
      "source": [
        "modelRFC.fit(X_train, y_train)\n",
        "X_train.info()\n",
        "importances = modelRFC.feature_importances_\n",
        "importances"
      ],
      "execution_count": 1054,
      "outputs": [
        {
          "output_type": "stream",
          "name": "stdout",
          "text": [
            "<class 'pandas.core.frame.DataFrame'>\n",
            "Int64Index: 47520 entries, 54088 to 12486\n",
            "Data columns (total 94 columns):\n",
            " #   Column                                       Non-Null Count  Dtype  \n",
            "---  ------                                       --------------  -----  \n",
            " 0   amount_tsh                                   47520 non-null  float64\n",
            " 1   days_since_recorded                          47520 non-null  int64  \n",
            " 2   gps_height                                   47520 non-null  float64\n",
            " 3   population                                   47520 non-null  float64\n",
            " 4   funder_danida                                47520 non-null  uint8  \n",
            " 5   funder_gov                                   47520 non-null  uint8  \n",
            " 6   funder_hesawa                                47520 non-null  uint8  \n",
            " 7   funder_other                                 47520 non-null  uint8  \n",
            " 8   funder_rwssp                                 47520 non-null  uint8  \n",
            " 9   funder_world_bank                            47520 non-null  uint8  \n",
            " 10  installer_commu                              47520 non-null  uint8  \n",
            " 11  installer_danida                             47520 non-null  uint8  \n",
            " 12  installer_dwe                                47520 non-null  uint8  \n",
            " 13  installer_gov                                47520 non-null  uint8  \n",
            " 14  installer_other                              47520 non-null  uint8  \n",
            " 15  installer_rwe                                47520 non-null  uint8  \n",
            " 16  basin_Internal                               47520 non-null  uint8  \n",
            " 17  basin_Lake Nyasa                             47520 non-null  uint8  \n",
            " 18  basin_Lake Rukwa                             47520 non-null  uint8  \n",
            " 19  basin_Lake Tanganyika                        47520 non-null  uint8  \n",
            " 20  basin_Lake Victoria                          47520 non-null  uint8  \n",
            " 21  basin_Pangani                                47520 non-null  uint8  \n",
            " 22  basin_Rufiji                                 47520 non-null  uint8  \n",
            " 23  basin_Ruvuma / Southern Coast                47520 non-null  uint8  \n",
            " 24  basin_Wami / Ruvu                            47520 non-null  uint8  \n",
            " 25  public_meeting_False                         47520 non-null  uint8  \n",
            " 26  public_meeting_True                          47520 non-null  uint8  \n",
            " 27  public_meeting_Unknown                       47520 non-null  uint8  \n",
            " 28  scheme_management_other                      47520 non-null  uint8  \n",
            " 29  scheme_management_vwc                        47520 non-null  uint8  \n",
            " 30  scheme_management_wtr_auth                   47520 non-null  uint8  \n",
            " 31  scheme_management_wtr_brd                    47520 non-null  uint8  \n",
            " 32  scheme_management_wua                        47520 non-null  uint8  \n",
            " 33  scheme_management_wug                        47520 non-null  uint8  \n",
            " 34  permit_False                                 47520 non-null  uint8  \n",
            " 35  permit_True                                  47520 non-null  uint8  \n",
            " 36  permit_Unknown                               47520 non-null  uint8  \n",
            " 37  construction_year_00s                        47520 non-null  uint8  \n",
            " 38  construction_year_10s                        47520 non-null  uint8  \n",
            " 39  construction_year_60s                        47520 non-null  uint8  \n",
            " 40  construction_year_70s                        47520 non-null  uint8  \n",
            " 41  construction_year_80s                        47520 non-null  uint8  \n",
            " 42  construction_year_90s                        47520 non-null  uint8  \n",
            " 43  construction_year_unknown                    47520 non-null  uint8  \n",
            " 44  extraction_type_class_gravity                47520 non-null  uint8  \n",
            " 45  extraction_type_class_handpump               47520 non-null  uint8  \n",
            " 46  extraction_type_class_motorpump              47520 non-null  uint8  \n",
            " 47  extraction_type_class_other                  47520 non-null  uint8  \n",
            " 48  extraction_type_class_rope pump              47520 non-null  uint8  \n",
            " 49  extraction_type_class_submersible            47520 non-null  uint8  \n",
            " 50  extraction_type_class_wind-powered           47520 non-null  uint8  \n",
            " 51  payment_type_annually                        47520 non-null  uint8  \n",
            " 52  payment_type_monthly                         47520 non-null  uint8  \n",
            " 53  payment_type_never pay                       47520 non-null  uint8  \n",
            " 54  payment_type_on failure                      47520 non-null  uint8  \n",
            " 55  payment_type_other                           47520 non-null  uint8  \n",
            " 56  payment_type_per bucket                      47520 non-null  uint8  \n",
            " 57  payment_type_unknown                         47520 non-null  uint8  \n",
            " 58  water_quality_coloured                       47520 non-null  uint8  \n",
            " 59  water_quality_fluoride                       47520 non-null  uint8  \n",
            " 60  water_quality_fluoride abandoned             47520 non-null  uint8  \n",
            " 61  water_quality_milky                          47520 non-null  uint8  \n",
            " 62  water_quality_salty                          47520 non-null  uint8  \n",
            " 63  water_quality_salty abandoned                47520 non-null  uint8  \n",
            " 64  water_quality_soft                           47520 non-null  uint8  \n",
            " 65  water_quality_unknown                        47520 non-null  uint8  \n",
            " 66  quantity_dry                                 47520 non-null  uint8  \n",
            " 67  quantity_enough                              47520 non-null  uint8  \n",
            " 68  quantity_insufficient                        47520 non-null  uint8  \n",
            " 69  quantity_seasonal                            47520 non-null  uint8  \n",
            " 70  quantity_unknown                             47520 non-null  uint8  \n",
            " 71  source_type_borehole                         47520 non-null  uint8  \n",
            " 72  source_type_dam                              47520 non-null  uint8  \n",
            " 73  source_type_other                            47520 non-null  uint8  \n",
            " 74  source_type_rainwater harvesting             47520 non-null  uint8  \n",
            " 75  source_type_river/lake                       47520 non-null  uint8  \n",
            " 76  source_type_shallow well                     47520 non-null  uint8  \n",
            " 77  source_type_spring                           47520 non-null  uint8  \n",
            " 78  source_class_groundwater                     47520 non-null  uint8  \n",
            " 79  source_class_surface                         47520 non-null  uint8  \n",
            " 80  source_class_unknown                         47520 non-null  uint8  \n",
            " 81  waterpoint_type_cattle trough                47520 non-null  uint8  \n",
            " 82  waterpoint_type_communal standpipe           47520 non-null  uint8  \n",
            " 83  waterpoint_type_communal standpipe multiple  47520 non-null  uint8  \n",
            " 84  waterpoint_type_dam                          47520 non-null  uint8  \n",
            " 85  waterpoint_type_hand pump                    47520 non-null  uint8  \n",
            " 86  waterpoint_type_improved spring              47520 non-null  uint8  \n",
            " 87  waterpoint_type_other                        47520 non-null  uint8  \n",
            " 88  waterpoint_type_group_cattle trough          47520 non-null  uint8  \n",
            " 89  waterpoint_type_group_communal standpipe     47520 non-null  uint8  \n",
            " 90  waterpoint_type_group_dam                    47520 non-null  uint8  \n",
            " 91  waterpoint_type_group_hand pump              47520 non-null  uint8  \n",
            " 92  waterpoint_type_group_improved spring        47520 non-null  uint8  \n",
            " 93  waterpoint_type_group_other                  47520 non-null  uint8  \n",
            "dtypes: float64(3), int64(1), uint8(90)\n",
            "memory usage: 5.9 MB\n"
          ]
        },
        {
          "output_type": "execute_result",
          "data": {
            "text/plain": [
              "array([2.93728044e-02, 1.43171512e-01, 1.26252918e-01, 7.64400131e-02,\n",
              "       2.68178660e-03, 8.88857352e-03, 2.87796501e-03, 1.11152487e-02,\n",
              "       1.79159633e-03, 2.85109630e-03, 1.11294651e-03, 8.50891384e-04,\n",
              "       1.11470988e-02, 3.75083034e-03, 1.06578425e-02, 3.36844122e-03,\n",
              "       7.68206806e-03, 4.64421510e-03, 4.39560151e-03, 7.43340486e-03,\n",
              "       8.22670507e-03, 6.16994129e-03, 5.44398923e-03, 4.89843698e-03,\n",
              "       5.41106723e-03, 6.55708182e-03, 7.72791637e-03, 3.85135235e-03,\n",
              "       8.71037211e-03, 1.09495871e-02, 4.42703785e-03, 3.20632188e-03,\n",
              "       2.88662093e-03, 5.53770812e-03, 9.81821968e-03, 1.00313278e-02,\n",
              "       3.28837605e-03, 1.09213321e-02, 8.66597567e-03, 1.41310266e-03,\n",
              "       8.42034885e-03, 7.66623268e-03, 7.32640325e-03, 6.03409875e-03,\n",
              "       9.31803151e-03, 6.71646522e-03, 3.60798345e-03, 2.00229288e-02,\n",
              "       1.03666158e-03, 5.76060144e-03, 3.17593223e-04, 3.66229393e-03,\n",
              "       6.82572514e-03, 1.49249728e-02, 4.12790535e-03, 1.60996082e-03,\n",
              "       7.23871311e-03, 7.18312465e-03, 1.31745203e-03, 6.73784216e-04,\n",
              "       8.84839934e-05, 1.74295926e-03, 5.61669668e-03, 1.23008041e-03,\n",
              "       8.55870387e-03, 6.29994941e-03, 8.06054834e-02, 2.96795304e-02,\n",
              "       1.68377232e-02, 8.10203069e-03, 2.13476564e-03, 7.74477919e-03,\n",
              "       1.53800165e-03, 5.37068811e-04, 3.61673213e-03, 4.89792880e-03,\n",
              "       6.25386911e-03, 7.31927465e-03, 5.18625287e-03, 5.00583801e-03,\n",
              "       5.40996511e-04, 2.56126156e-04, 9.98499114e-03, 9.73429537e-03,\n",
              "       2.88936129e-05, 4.67492935e-03, 1.26068703e-03, 2.27588605e-02,\n",
              "       2.41802938e-04, 4.39576693e-03, 2.72910138e-05, 5.05806557e-03,\n",
              "       1.22169062e-03, 2.43988442e-02])"
            ]
          },
          "metadata": {},
          "execution_count": 1054
        }
      ]
    },
    {
      "cell_type": "code",
      "metadata": {
        "colab": {
          "base_uri": "https://localhost:8080/"
        },
        "id": "bGm7JLgG1yWi",
        "outputId": "a5068fed-2925-4b9d-bf6a-c30a3a2499bc"
      },
      "source": [
        "predictionsRFC = modelRFC.predict(test)\n",
        "\n",
        "output = pd.DataFrame({'id':testid, 'status_group':predictionsRFC})\n",
        "output.to_csv('my_submission_rfc1.csv', index=False)\n",
        "print(\"Submission was successfully saved!\")"
      ],
      "execution_count": 1055,
      "outputs": [
        {
          "output_type": "stream",
          "name": "stdout",
          "text": [
            "Submission was successfully saved!\n"
          ]
        }
      ]
    },
    {
      "cell_type": "code",
      "metadata": {
        "colab": {
          "base_uri": "https://localhost:8080/"
        },
        "id": "fVy1ihGaUkCz",
        "outputId": "832cdd02-bdd0-419a-b5b9-9360b6f755cb"
      },
      "source": [
        "from sklearn.model_selection import cross_val_score\n",
        "cross_val_score(modelRFC, X_train, y_train, cv=3)"
      ],
      "execution_count": 1056,
      "outputs": [
        {
          "output_type": "execute_result",
          "data": {
            "text/plain": [
              "array([0.78516414, 0.7822601 , 0.77948232])"
            ]
          },
          "metadata": {},
          "execution_count": 1056
        }
      ]
    },
    {
      "cell_type": "code",
      "metadata": {
        "colab": {
          "base_uri": "https://localhost:8080/"
        },
        "id": "7r0oiH5zUkFs",
        "outputId": "1a52a1a3-ddd7-47a5-db48-9317305ecbe6"
      },
      "source": [
        "modelXGB.fit(X_train, y_train)\n",
        "importances = model.feature_importances_\n",
        "importances\n",
        "cross_val_score(modelXGB, X_train, y_train, cv=3)"
      ],
      "execution_count": 958,
      "outputs": [
        {
          "output_type": "execute_result",
          "data": {
            "text/plain": [
              "array([0.78289141, 0.78137626, 0.78055556])"
            ]
          },
          "metadata": {},
          "execution_count": 958
        }
      ]
    },
    {
      "cell_type": "code",
      "metadata": {
        "id": "iQopdl4AUkIi"
      },
      "source": [
        "importances = model.feature_importances_\n",
        "importances"
      ],
      "execution_count": null,
      "outputs": []
    },
    {
      "cell_type": "code",
      "metadata": {
        "id": "Lwjq0yzvgOjh"
      },
      "source": [
        "'''pcaTest = PCA(n_components=50)\n",
        "test = pcaTest.fit_transform(test)'''"
      ],
      "execution_count": 961,
      "outputs": []
    },
    {
      "cell_type": "code",
      "metadata": {
        "colab": {
          "base_uri": "https://localhost:8080/"
        },
        "id": "Cdazl0q5UkMe",
        "outputId": "40ba156a-18fc-4cd7-d6fb-d288a0a05a8a"
      },
      "source": [
        "predictionsXGB = modelXGB.predict(test)\n",
        "\n",
        "output = pd.DataFrame({'id':testid, 'status_group':predictionsXGB})\n",
        "output.to_csv('my_submission_xgb2.csv', index=False)\n",
        "print(\"Submission was successfully saved!\")"
      ],
      "execution_count": 962,
      "outputs": [
        {
          "output_type": "stream",
          "name": "stdout",
          "text": [
            "Submission was successfully saved!\n"
          ]
        }
      ]
    },
    {
      "cell_type": "code",
      "metadata": {
        "id": "QECYOkEWUkO7"
      },
      "source": [
        ""
      ],
      "execution_count": null,
      "outputs": []
    },
    {
      "cell_type": "code",
      "metadata": {
        "id": "dlWiEhr2UkQv"
      },
      "source": [
        ""
      ],
      "execution_count": null,
      "outputs": []
    },
    {
      "cell_type": "markdown",
      "metadata": {
        "id": "eV4bL0s2Uk1r"
      },
      "source": [
        "--------------------------------------------------"
      ]
    },
    {
      "cell_type": "code",
      "metadata": {
        "id": "YoLADSXMim_5"
      },
      "source": [
        "from sklearn.ensemble import RandomForestClassifier\n",
        "\n",
        "modelrfc = RandomForestClassifier(n_estimators=1000, max_depth=5, random_state=1)\n",
        "modelrfc.fit(X_train,y_train)\n",
        "#model.evaluate(X_val, y_val, batch_size=32, verbose=2)\n",
        "\n",
        "predictions = modelrfc.predict(test)\n",
        "\n",
        "output = pd.DataFrame({'id':testid, 'status_group':predictions})\n",
        "output.to_csv('my_submission_rfc.csv', index=False)\n",
        "print(\"Submission was successfully saved!\")"
      ],
      "execution_count": null,
      "outputs": []
    },
    {
      "cell_type": "code",
      "metadata": {
        "id": "w5YRudFZN6V5"
      },
      "source": [
        "\n",
        "test.shape"
      ],
      "execution_count": null,
      "outputs": []
    },
    {
      "cell_type": "code",
      "metadata": {
        "id": "Fh6xKx00XEfN"
      },
      "source": [
        "X_train.shape"
      ],
      "execution_count": null,
      "outputs": []
    },
    {
      "cell_type": "code",
      "metadata": {
        "id": "bSRkzfUmofV2"
      },
      "source": [
        "from sklearn.model_selection import cross_val_score\n",
        "print(cross_val_score(modelrfc, X_val,y_val, cv=3))"
      ],
      "execution_count": null,
      "outputs": []
    },
    {
      "cell_type": "code",
      "metadata": {
        "id": "DUAeA3-C6S8C"
      },
      "source": [
        "import xgboost as xgb\n",
        "from xgboost import XGBClassifier, plot_tree\n",
        "\n",
        "model2 = XGBClassifier(objective = 'multi:softmax',\n",
        "                      max_depth = 14, colsample_bytree = .4)\n",
        "\n",
        "model2.fit(X_train,y_train)\n",
        "preds = model2.predict(test)\n",
        "\n",
        "output = pd.DataFrame({'id':testid, 'status_group':predictions})\n",
        "output.to_csv('XGBoost_result.csv', index=False)\n",
        "print(\"Submission was successfully saved!\")"
      ],
      "execution_count": null,
      "outputs": []
    },
    {
      "cell_type": "code",
      "metadata": {
        "id": "BcB96ll8W9WN"
      },
      "source": [
        "test.shape"
      ],
      "execution_count": null,
      "outputs": []
    },
    {
      "cell_type": "code",
      "metadata": {
        "id": "9ECCkyihXAQc"
      },
      "source": [
        "y_train.shape"
      ],
      "execution_count": null,
      "outputs": []
    },
    {
      "cell_type": "code",
      "metadata": {
        "id": "E4xhXex9o-qW"
      },
      "source": [
        "print(cross_val_score(model2, X_val,y_val, cv=3))"
      ],
      "execution_count": null,
      "outputs": []
    }
  ]
}